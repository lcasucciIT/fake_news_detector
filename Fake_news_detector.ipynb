{
 "cells": [
  {
   "cell_type": "markdown",
   "metadata": {},
   "source": [
    "### Import the libraries and analyze the dataset"
   ]
  },
  {
   "cell_type": "raw",
   "metadata": {},
   "source": [
    "The articles were taken from the kaggle dataset\n",
    "https://www.kaggle.com/clmentbisaillon/fake-and-real-news-dataset"
   ]
  },
  {
   "cell_type": "code",
   "execution_count": 1,
   "metadata": {},
   "outputs": [],
   "source": [
    "import pandas as pd\n",
    "import numpy as np\n",
    "import matplotlib.pyplot as plt\n",
    "import seaborn as sns\n",
    "%matplotlib inline"
   ]
  },
  {
   "cell_type": "code",
   "execution_count": 2,
   "metadata": {},
   "outputs": [],
   "source": [
    "df = pd.read_csv(\"Fake.csv\")"
   ]
  },
  {
   "cell_type": "code",
   "execution_count": null,
   "metadata": {},
   "outputs": [],
   "source": []
  },
  {
   "cell_type": "code",
   "execution_count": 3,
   "metadata": {},
   "outputs": [
    {
     "data": {
      "text/html": [
       "<div>\n",
       "<style scoped>\n",
       "    .dataframe tbody tr th:only-of-type {\n",
       "        vertical-align: middle;\n",
       "    }\n",
       "\n",
       "    .dataframe tbody tr th {\n",
       "        vertical-align: top;\n",
       "    }\n",
       "\n",
       "    .dataframe thead th {\n",
       "        text-align: right;\n",
       "    }\n",
       "</style>\n",
       "<table border=\"1\" class=\"dataframe\">\n",
       "  <thead>\n",
       "    <tr style=\"text-align: right;\">\n",
       "      <th></th>\n",
       "      <th>title</th>\n",
       "      <th>text</th>\n",
       "      <th>subject</th>\n",
       "      <th>date</th>\n",
       "      <th>Fake</th>\n",
       "    </tr>\n",
       "  </thead>\n",
       "  <tbody>\n",
       "    <tr>\n",
       "      <th>0</th>\n",
       "      <td>Donald Trump Sends Out Embarrassing New Year’...</td>\n",
       "      <td>Donald Trump just couldn t wish all Americans ...</td>\n",
       "      <td>News</td>\n",
       "      <td>12/31/2017</td>\n",
       "      <td>1</td>\n",
       "    </tr>\n",
       "    <tr>\n",
       "      <th>1</th>\n",
       "      <td>Drunk Bragging Trump Staffer Started Russian ...</td>\n",
       "      <td>House Intelligence Committee Chairman Devin Nu...</td>\n",
       "      <td>News</td>\n",
       "      <td>12/31/2017</td>\n",
       "      <td>1</td>\n",
       "    </tr>\n",
       "    <tr>\n",
       "      <th>2</th>\n",
       "      <td>Sheriff David Clarke Becomes An Internet Joke...</td>\n",
       "      <td>On Friday, it was revealed that former Milwauk...</td>\n",
       "      <td>News</td>\n",
       "      <td>12/30/2017</td>\n",
       "      <td>1</td>\n",
       "    </tr>\n",
       "    <tr>\n",
       "      <th>3</th>\n",
       "      <td>Trump Is So Obsessed He Even Has Obama’s Name...</td>\n",
       "      <td>On Christmas day, Donald Trump announced that ...</td>\n",
       "      <td>News</td>\n",
       "      <td>12/29/2017</td>\n",
       "      <td>1</td>\n",
       "    </tr>\n",
       "    <tr>\n",
       "      <th>4</th>\n",
       "      <td>Pope Francis Just Called Out Donald Trump Dur...</td>\n",
       "      <td>Pope Francis used his annual Christmas Day mes...</td>\n",
       "      <td>News</td>\n",
       "      <td>12/25/2017</td>\n",
       "      <td>1</td>\n",
       "    </tr>\n",
       "  </tbody>\n",
       "</table>\n",
       "</div>"
      ],
      "text/plain": [
       "                                               title  \\\n",
       "0   Donald Trump Sends Out Embarrassing New Year’...   \n",
       "1   Drunk Bragging Trump Staffer Started Russian ...   \n",
       "2   Sheriff David Clarke Becomes An Internet Joke...   \n",
       "3   Trump Is So Obsessed He Even Has Obama’s Name...   \n",
       "4   Pope Francis Just Called Out Donald Trump Dur...   \n",
       "\n",
       "                                                text subject        date  Fake  \n",
       "0  Donald Trump just couldn t wish all Americans ...    News  12/31/2017     1  \n",
       "1  House Intelligence Committee Chairman Devin Nu...    News  12/31/2017     1  \n",
       "2  On Friday, it was revealed that former Milwauk...    News  12/30/2017     1  \n",
       "3  On Christmas day, Donald Trump announced that ...    News  12/29/2017     1  \n",
       "4  Pope Francis used his annual Christmas Day mes...    News  12/25/2017     1  "
      ]
     },
     "execution_count": 3,
     "metadata": {},
     "output_type": "execute_result"
    }
   ],
   "source": [
    "df.head()"
   ]
  },
  {
   "cell_type": "code",
   "execution_count": 4,
   "metadata": {},
   "outputs": [
    {
     "data": {
      "text/html": [
       "<div>\n",
       "<style scoped>\n",
       "    .dataframe tbody tr th:only-of-type {\n",
       "        vertical-align: middle;\n",
       "    }\n",
       "\n",
       "    .dataframe tbody tr th {\n",
       "        vertical-align: top;\n",
       "    }\n",
       "\n",
       "    .dataframe thead th {\n",
       "        text-align: right;\n",
       "    }\n",
       "</style>\n",
       "<table border=\"1\" class=\"dataframe\">\n",
       "  <thead>\n",
       "    <tr style=\"text-align: right;\">\n",
       "      <th></th>\n",
       "      <th>Fake</th>\n",
       "    </tr>\n",
       "  </thead>\n",
       "  <tbody>\n",
       "    <tr>\n",
       "      <th>count</th>\n",
       "      <td>44888.000000</td>\n",
       "    </tr>\n",
       "    <tr>\n",
       "      <th>mean</th>\n",
       "      <td>0.522879</td>\n",
       "    </tr>\n",
       "    <tr>\n",
       "      <th>std</th>\n",
       "      <td>0.499482</td>\n",
       "    </tr>\n",
       "    <tr>\n",
       "      <th>min</th>\n",
       "      <td>0.000000</td>\n",
       "    </tr>\n",
       "    <tr>\n",
       "      <th>25%</th>\n",
       "      <td>0.000000</td>\n",
       "    </tr>\n",
       "    <tr>\n",
       "      <th>50%</th>\n",
       "      <td>1.000000</td>\n",
       "    </tr>\n",
       "    <tr>\n",
       "      <th>75%</th>\n",
       "      <td>1.000000</td>\n",
       "    </tr>\n",
       "    <tr>\n",
       "      <th>max</th>\n",
       "      <td>1.000000</td>\n",
       "    </tr>\n",
       "  </tbody>\n",
       "</table>\n",
       "</div>"
      ],
      "text/plain": [
       "               Fake\n",
       "count  44888.000000\n",
       "mean       0.522879\n",
       "std        0.499482\n",
       "min        0.000000\n",
       "25%        0.000000\n",
       "50%        1.000000\n",
       "75%        1.000000\n",
       "max        1.000000"
      ]
     },
     "execution_count": 4,
     "metadata": {},
     "output_type": "execute_result"
    }
   ],
   "source": [
    "df.describe()"
   ]
  },
  {
   "cell_type": "raw",
   "metadata": {},
   "source": [
    "There are about 45k articles, the label 1 means it is a fake news, while 0 means it is a truthful article"
   ]
  },
  {
   "cell_type": "code",
   "execution_count": 5,
   "metadata": {
    "scrolled": true
   },
   "outputs": [
    {
     "name": "stdout",
     "output_type": "stream",
     "text": [
      "<class 'pandas.core.frame.DataFrame'>\n",
      "RangeIndex: 44888 entries, 0 to 44887\n",
      "Data columns (total 5 columns):\n",
      "title      44888 non-null object\n",
      "text       44888 non-null object\n",
      "subject    44875 non-null object\n",
      "date       44875 non-null object\n",
      "Fake       44888 non-null int64\n",
      "dtypes: int64(1), object(4)\n",
      "memory usage: 1.7+ MB\n"
     ]
    }
   ],
   "source": [
    "df.info()"
   ]
  },
  {
   "cell_type": "markdown",
   "metadata": {},
   "source": [
    "#### Are there any null values?"
   ]
  },
  {
   "cell_type": "code",
   "execution_count": 6,
   "metadata": {},
   "outputs": [
    {
     "data": {
      "text/html": [
       "<div>\n",
       "<style scoped>\n",
       "    .dataframe tbody tr th:only-of-type {\n",
       "        vertical-align: middle;\n",
       "    }\n",
       "\n",
       "    .dataframe tbody tr th {\n",
       "        vertical-align: top;\n",
       "    }\n",
       "\n",
       "    .dataframe thead th {\n",
       "        text-align: right;\n",
       "    }\n",
       "</style>\n",
       "<table border=\"1\" class=\"dataframe\">\n",
       "  <thead>\n",
       "    <tr style=\"text-align: right;\">\n",
       "      <th></th>\n",
       "      <th>title</th>\n",
       "      <th>text</th>\n",
       "      <th>subject</th>\n",
       "      <th>date</th>\n",
       "      <th>Fake</th>\n",
       "    </tr>\n",
       "  </thead>\n",
       "  <tbody>\n",
       "    <tr>\n",
       "      <th>22003</th>\n",
       "      <td>What is The Deep State?</td>\n",
       "      <td>One of the ancillary benefits of Donald Trump ...</td>\n",
       "      <td>NaN</td>\n",
       "      <td>NaN</td>\n",
       "      <td>1</td>\n",
       "    </tr>\n",
       "    <tr>\n",
       "      <th>22293</th>\n",
       "      <td>MEDIA TRIPWIRE? Ping Pong Pizza Conspiracy Pro...</td>\n",
       "      <td>Funny how secrets travel. I d start to believ...</td>\n",
       "      <td>NaN</td>\n",
       "      <td>NaN</td>\n",
       "      <td>1</td>\n",
       "    </tr>\n",
       "    <tr>\n",
       "      <th>22337</th>\n",
       "      <td>Washington Post Sloppy ‘Journalism’ Blames Rus...</td>\n",
       "      <td>Patrick Henningsen 21st Century Wire The mains...</td>\n",
       "      <td>NaN</td>\n",
       "      <td>NaN</td>\n",
       "      <td>1</td>\n",
       "    </tr>\n",
       "    <tr>\n",
       "      <th>22385</th>\n",
       "      <td>Trump vs Clinton 2016: Mickey Mouse vs Cruella...</td>\n",
       "      <td>Patrick Henningsen 21st Century WireToday Ame...</td>\n",
       "      <td>NaN</td>\n",
       "      <td>NaN</td>\n",
       "      <td>1</td>\n",
       "    </tr>\n",
       "    <tr>\n",
       "      <th>22496</th>\n",
       "      <td>CULT CRIMES, MASS SHOOTINGS &amp; MEDIA MIND CONTR...</td>\n",
       "      <td>Shawn Helton 21st Century WireThe 1994 cult fi...</td>\n",
       "      <td>NaN</td>\n",
       "      <td>NaN</td>\n",
       "      <td>1</td>\n",
       "    </tr>\n",
       "    <tr>\n",
       "      <th>22693</th>\n",
       "      <td>YEAR IN REVIEW: 2017 Top Ten Conspiracies</td>\n",
       "      <td>Patrick Henningsen and Shawn Helton 21st Centu...</td>\n",
       "      <td>NaN</td>\n",
       "      <td>NaN</td>\n",
       "      <td>1</td>\n",
       "    </tr>\n",
       "    <tr>\n",
       "      <th>22702</th>\n",
       "      <td>CLOAKED IN CONSPIRACY: Overview of JFK Files R...</td>\n",
       "      <td>Shawn Helton 21st Century WireSince late Octob...</td>\n",
       "      <td>NaN</td>\n",
       "      <td>NaN</td>\n",
       "      <td>1</td>\n",
       "    </tr>\n",
       "    <tr>\n",
       "      <th>22751</th>\n",
       "      <td>The Las Vegas Mass Shooting – More to the Stor...</td>\n",
       "      <td>Shawn Helton 21st Century WireAlthough many ar...</td>\n",
       "      <td>NaN</td>\n",
       "      <td>NaN</td>\n",
       "      <td>1</td>\n",
       "    </tr>\n",
       "    <tr>\n",
       "      <th>22786</th>\n",
       "      <td>What is The Deep State?</td>\n",
       "      <td>One of the ancillary benefits of Donald Trump ...</td>\n",
       "      <td>NaN</td>\n",
       "      <td>NaN</td>\n",
       "      <td>1</td>\n",
       "    </tr>\n",
       "    <tr>\n",
       "      <th>23076</th>\n",
       "      <td>MEDIA TRIPWIRE? Ping Pong Pizza Conspiracy Pro...</td>\n",
       "      <td>Funny how secrets travel. I d start to believ...</td>\n",
       "      <td>NaN</td>\n",
       "      <td>NaN</td>\n",
       "      <td>1</td>\n",
       "    </tr>\n",
       "    <tr>\n",
       "      <th>23120</th>\n",
       "      <td>Washington Post Sloppy ‘Journalism’ Blames Rus...</td>\n",
       "      <td>Patrick Henningsen 21st Century Wire The mains...</td>\n",
       "      <td>NaN</td>\n",
       "      <td>NaN</td>\n",
       "      <td>1</td>\n",
       "    </tr>\n",
       "    <tr>\n",
       "      <th>23168</th>\n",
       "      <td>Trump vs Clinton 2016: Mickey Mouse vs Cruella...</td>\n",
       "      <td>Patrick Henningsen 21st Century WireToday Ame...</td>\n",
       "      <td>NaN</td>\n",
       "      <td>NaN</td>\n",
       "      <td>1</td>\n",
       "    </tr>\n",
       "    <tr>\n",
       "      <th>23279</th>\n",
       "      <td>CULT CRIMES, MASS SHOOTINGS &amp; MEDIA MIND CONTR...</td>\n",
       "      <td>Shawn Helton 21st Century WireThe 1994 cult fi...</td>\n",
       "      <td>NaN</td>\n",
       "      <td>NaN</td>\n",
       "      <td>1</td>\n",
       "    </tr>\n",
       "  </tbody>\n",
       "</table>\n",
       "</div>"
      ],
      "text/plain": [
       "                                                   title  \\\n",
       "22003                            What is The Deep State?   \n",
       "22293  MEDIA TRIPWIRE? Ping Pong Pizza Conspiracy Pro...   \n",
       "22337  Washington Post Sloppy ‘Journalism’ Blames Rus...   \n",
       "22385  Trump vs Clinton 2016: Mickey Mouse vs Cruella...   \n",
       "22496  CULT CRIMES, MASS SHOOTINGS & MEDIA MIND CONTR...   \n",
       "22693          YEAR IN REVIEW: 2017 Top Ten Conspiracies   \n",
       "22702  CLOAKED IN CONSPIRACY: Overview of JFK Files R...   \n",
       "22751  The Las Vegas Mass Shooting – More to the Stor...   \n",
       "22786                            What is The Deep State?   \n",
       "23076  MEDIA TRIPWIRE? Ping Pong Pizza Conspiracy Pro...   \n",
       "23120  Washington Post Sloppy ‘Journalism’ Blames Rus...   \n",
       "23168  Trump vs Clinton 2016: Mickey Mouse vs Cruella...   \n",
       "23279  CULT CRIMES, MASS SHOOTINGS & MEDIA MIND CONTR...   \n",
       "\n",
       "                                                    text subject date  Fake  \n",
       "22003  One of the ancillary benefits of Donald Trump ...     NaN  NaN     1  \n",
       "22293   Funny how secrets travel. I d start to believ...     NaN  NaN     1  \n",
       "22337  Patrick Henningsen 21st Century Wire The mains...     NaN  NaN     1  \n",
       "22385   Patrick Henningsen 21st Century WireToday Ame...     NaN  NaN     1  \n",
       "22496  Shawn Helton 21st Century WireThe 1994 cult fi...     NaN  NaN     1  \n",
       "22693  Patrick Henningsen and Shawn Helton 21st Centu...     NaN  NaN     1  \n",
       "22702  Shawn Helton 21st Century WireSince late Octob...     NaN  NaN     1  \n",
       "22751  Shawn Helton 21st Century WireAlthough many ar...     NaN  NaN     1  \n",
       "22786  One of the ancillary benefits of Donald Trump ...     NaN  NaN     1  \n",
       "23076   Funny how secrets travel. I d start to believ...     NaN  NaN     1  \n",
       "23120  Patrick Henningsen 21st Century Wire The mains...     NaN  NaN     1  \n",
       "23168   Patrick Henningsen 21st Century WireToday Ame...     NaN  NaN     1  \n",
       "23279  Shawn Helton 21st Century WireThe 1994 cult fi...     NaN  NaN     1  "
      ]
     },
     "execution_count": 6,
     "metadata": {},
     "output_type": "execute_result"
    }
   ],
   "source": [
    "df[df['subject'].isnull()]"
   ]
  },
  {
   "cell_type": "markdown",
   "metadata": {},
   "source": [
    "#### What is the length of the articles (number of words) ? "
   ]
  },
  {
   "cell_type": "code",
   "execution_count": 7,
   "metadata": {},
   "outputs": [],
   "source": [
    "df['length'] = df['text'].apply(len)\n"
   ]
  },
  {
   "cell_type": "code",
   "execution_count": 8,
   "metadata": {},
   "outputs": [
    {
     "data": {
      "text/html": [
       "<div>\n",
       "<style scoped>\n",
       "    .dataframe tbody tr th:only-of-type {\n",
       "        vertical-align: middle;\n",
       "    }\n",
       "\n",
       "    .dataframe tbody tr th {\n",
       "        vertical-align: top;\n",
       "    }\n",
       "\n",
       "    .dataframe thead th {\n",
       "        text-align: right;\n",
       "    }\n",
       "</style>\n",
       "<table border=\"1\" class=\"dataframe\">\n",
       "  <thead>\n",
       "    <tr style=\"text-align: right;\">\n",
       "      <th></th>\n",
       "      <th>title</th>\n",
       "      <th>text</th>\n",
       "      <th>subject</th>\n",
       "      <th>date</th>\n",
       "      <th>Fake</th>\n",
       "      <th>length</th>\n",
       "    </tr>\n",
       "  </thead>\n",
       "  <tbody>\n",
       "    <tr>\n",
       "      <th>0</th>\n",
       "      <td>Donald Trump Sends Out Embarrassing New Year’...</td>\n",
       "      <td>Donald Trump just couldn t wish all Americans ...</td>\n",
       "      <td>News</td>\n",
       "      <td>12/31/2017</td>\n",
       "      <td>1</td>\n",
       "      <td>2893</td>\n",
       "    </tr>\n",
       "    <tr>\n",
       "      <th>1</th>\n",
       "      <td>Drunk Bragging Trump Staffer Started Russian ...</td>\n",
       "      <td>House Intelligence Committee Chairman Devin Nu...</td>\n",
       "      <td>News</td>\n",
       "      <td>12/31/2017</td>\n",
       "      <td>1</td>\n",
       "      <td>1898</td>\n",
       "    </tr>\n",
       "    <tr>\n",
       "      <th>2</th>\n",
       "      <td>Sheriff David Clarke Becomes An Internet Joke...</td>\n",
       "      <td>On Friday, it was revealed that former Milwauk...</td>\n",
       "      <td>News</td>\n",
       "      <td>12/30/2017</td>\n",
       "      <td>1</td>\n",
       "      <td>3597</td>\n",
       "    </tr>\n",
       "    <tr>\n",
       "      <th>3</th>\n",
       "      <td>Trump Is So Obsessed He Even Has Obama’s Name...</td>\n",
       "      <td>On Christmas day, Donald Trump announced that ...</td>\n",
       "      <td>News</td>\n",
       "      <td>12/29/2017</td>\n",
       "      <td>1</td>\n",
       "      <td>2774</td>\n",
       "    </tr>\n",
       "    <tr>\n",
       "      <th>4</th>\n",
       "      <td>Pope Francis Just Called Out Donald Trump Dur...</td>\n",
       "      <td>Pope Francis used his annual Christmas Day mes...</td>\n",
       "      <td>News</td>\n",
       "      <td>12/25/2017</td>\n",
       "      <td>1</td>\n",
       "      <td>2346</td>\n",
       "    </tr>\n",
       "  </tbody>\n",
       "</table>\n",
       "</div>"
      ],
      "text/plain": [
       "                                               title  \\\n",
       "0   Donald Trump Sends Out Embarrassing New Year’...   \n",
       "1   Drunk Bragging Trump Staffer Started Russian ...   \n",
       "2   Sheriff David Clarke Becomes An Internet Joke...   \n",
       "3   Trump Is So Obsessed He Even Has Obama’s Name...   \n",
       "4   Pope Francis Just Called Out Donald Trump Dur...   \n",
       "\n",
       "                                                text subject        date  \\\n",
       "0  Donald Trump just couldn t wish all Americans ...    News  12/31/2017   \n",
       "1  House Intelligence Committee Chairman Devin Nu...    News  12/31/2017   \n",
       "2  On Friday, it was revealed that former Milwauk...    News  12/30/2017   \n",
       "3  On Christmas day, Donald Trump announced that ...    News  12/29/2017   \n",
       "4  Pope Francis used his annual Christmas Day mes...    News  12/25/2017   \n",
       "\n",
       "   Fake  length  \n",
       "0     1    2893  \n",
       "1     1    1898  \n",
       "2     1    3597  \n",
       "3     1    2774  \n",
       "4     1    2346  "
      ]
     },
     "execution_count": 8,
     "metadata": {},
     "output_type": "execute_result"
    }
   ],
   "source": [
    "df.head()"
   ]
  },
  {
   "cell_type": "markdown",
   "metadata": {},
   "source": [
    "#### Visualize the number of words is each articles distribution"
   ]
  },
  {
   "cell_type": "code",
   "execution_count": 9,
   "metadata": {},
   "outputs": [
    {
     "data": {
      "text/plain": [
       "<matplotlib.axes._subplots.AxesSubplot at 0x1d8edbbecf8>"
      ]
     },
     "execution_count": 9,
     "metadata": {},
     "output_type": "execute_result"
    },
    {
     "data": {
      "image/png": "[encoded data removed]",
      "text/plain": [
       "<Figure size 432x288 with 1 Axes>"
      ]
     },
     "metadata": {
      "needs_background": "light"
     },
     "output_type": "display_data"
    }
   ],
   "source": [
    "df['length'].plot(bins=100, kind='hist') "
   ]
  },
  {
   "cell_type": "code",
   "execution_count": 10,
   "metadata": {},
   "outputs": [
    {
     "data": {
      "text/plain": [
       "count    44888.000000\n",
       "mean      2459.530565\n",
       "std       2057.592918\n",
       "min          1.000000\n",
       "25%       1234.000000\n",
       "50%       2186.000000\n",
       "75%       3105.000000\n",
       "max      32759.000000\n",
       "Name: length, dtype: float64"
      ]
     },
     "execution_count": 10,
     "metadata": {},
     "output_type": "execute_result"
    }
   ],
   "source": [
    "df.length.describe()"
   ]
  },
  {
   "cell_type": "markdown",
   "metadata": {},
   "source": [
    "#### What is the longest article?"
   ]
  },
  {
   "cell_type": "code",
   "execution_count": 11,
   "metadata": {},
   "outputs": [
    {
     "data": {
      "text/plain": [
       "'One of the ancillary benefits of Donald Trump s insurgence into the US political scene has been a forceful injection of realism into the national political discourse. One of those points of discussion is centered around the concept of a  state within a state,  commonly referred to as the Deep State. It s suddenly become an acceptable mainstream idea, but prior to the 2016 election cycle, that conversation was strictly a fringe affair, mostly relegated to the realms of  conspiracy  forums and alternative media. but now it s written and spoken about as a mainstream talking point. One of the most coherent articulations of this idea originated from a former US Congressional staffer turned best-selling author, Mike Lofgren. In his book, The Deep State, he outlines the shape and structure of this seemingly invisible  state within a state,  but unlike the establishment media s innocuous commentary, Lofgren also delivers a incisive moral verdict on this power transition and explains how it s not only eviscerating the fabric of democracy and the foundations of the Constitutional Republic, but more importantly how it s destroying society.More than ever, it s important to understand just how we arrived at this crucial point in history and more importantly   what can be done to derail this silent coup in the United States, and internationally too.The following essay was written by Lofgren in 2014, and still stands firm as a critical deconstruction of the current shadow state set-up in America . Rome lived upon its principal till ruin stared it in the face. Industry is the only true source of wealth, and there was no industry in Rome. By day the Ostia road was crowded with carts and muleteers, carrying to the great city the silks and spices of the East, the marble of Asia Minor, the timber of the Atlas, the grain of Africa and Egypt; and the carts brought out nothing but loads of dung. That was their return cargo.  The Martyrdom of Man, by Winwood Reade (1871) . By Mike LofgrenThere is the visible government situated around the Mall in Washington, and then there is another, more shadowy, more indefinable government that is not explained in Civics 101 or observable to tourists at the White House or the Capitol. The former is traditional Washington partisan politics: the tip of the iceberg that a public watching C-SPAN sees daily and which is theoretically controllable via elections. The subsurface part of the iceberg I shall call the Deep State, which operates according to its own compass heading regardless of who is formally in power. [1]During the last five years, the news media have been flooded with pundits decrying the broken politics of Washington. The conventional wisdom has it that partisan gridlock and dysfunction have become the new normal. That is certainly the case, and I have been among the harshest critics of this development. But it is also imperative to acknowledge the limits of this critique as it applies to the American governmental system. On one level, the critique is self-evident: In the domain that the public can see, Congress is hopelessly deadlocked in the worst manner since the 1850s, the violently rancorous decade preceding the Civil War.Yes, there is another government concealed behind the one that is visible at either end of Pennsylvania Avenue, a hybrid entity of public and private institutions ruling the country As I wrote in The Party is Over, the present objective of congressional Republicans is to render the executive branch powerless, at least until a Republican president is elected (a goal that voter suppression laws in GOP-controlled states are clearly intended to accomplish). President Obama cannot enact his domestic policies and budgets: Because of incessant GOP filibustering, not only could he not fill the large number of vacancies in the federal judiciary, he could not even get his most innocuous presidential appointees into office. Democrats controlling the Senate have responded by weakening the filibuster of nominations, but Republicans are sure to react with other parliamentary delaying tactics. This strategy amounts to congressional nullification of executive branch powers by a party that controls a majority in only one house of Congress. Despite this apparent impotence, President Obama can liquidate American citizens without due processes, detain prisoners indefinitely without charge, conduct dragnet surveillance on the American people without judicial warrant and engage in unprecedented   at least since the McCarthy era   witch hunts against federal employees (the so-called  Insider Threat Program ). Within the United States, this power is characterized by massive displays of intimidating force by militarized federal, state and local law enforcement. Abroad, President Obama can start wars at will and engage in virtually any other activity whatsoever without so much as a by-your-leave from Congress, such as arranging the forced landing of a plane carrying a sovereign head of state over foreign territory. Despite the habitual cant of congressional Republicans about executive overreach by Obama, the would-be dictator, we have until recently heard very little from them about these actions   with the minor exception of comments from gadfly Senator Rand Paul of Kentucky. Democrats, save a few mavericks such as Ron Wyden of Oregon, are not unduly troubled, either   even to the extent of permitting seemingly perjured congressional testimony under oath by executive branch officials on the subject of illegal surveillance.These are not isolated instances of a contradiction; they have been so pervasive that they tend to be disregarded as background noise. During the time in 2011 when political warfare over the debt ceiling was beginning to paralyze the business of governance in Washington, the United States government somehow summoned the resources to overthrow Muammar Ghaddafi s regime in Libya, and, when the instability created by that coup spilled over into Mali, provide overt and covert assistance to French intervention there. At a time when there was heated debate about continuing meat inspections and civilian air traffic control because of the budget crisis, our government was somehow able to commit $115 million to keeping a civil war going in Syria and to pay at least  100m to the United Kingdom s Government Communications Headquarters to buy influence over and access to that country s intelligence. Since 2007, two bridges carrying interstate highways have collapsed due to inadequate maintenance of infrastructure, one killing 13 people. During that same period of time, the government spent $1.7 billion constructing a building in Utah that is the size of 17 football fields. This mammoth structure is intended to allow the National Security Agency to store a yottabyte of information, the largest numerical designator computer scientists have coined. A yottabyte is equal to 500 quintillion pages of text. They need that much storage to archive every single trace of your electronic life.Yes, there is another government concealed behind the one that is visible at either end of Pennsylvania Avenue, a hybrid entity of public and private institutions ruling the country according to consistent patterns in season and out, connected to, but only intermittently controlled by, the visible state whose leaders we choose. My analysis of this phenomenon is not an expos  of a secret, conspiratorial cabal; the state within a state is hiding mostly in plain sight, and its operators mainly act in the light of day. Nor can this other government be accurately termed an  establishment.  All complex societies have an establishment, a social network committed to its own enrichment and perpetuation. In terms of its scope, financial resources and sheer global reach, the American hybrid state, the Deep State, is in a class by itself. That said, it is neither omniscient nor invincible. The institution is not so much sinister (although it has highly sinister aspects) as it is relentlessly well entrenched. Far from being invincible, its failures, such as those in Iraq, Afghanistan and Libya, are routine enough that it is only the Deep State s protectiveness towards its higher-ranking personnel that allows them to escape the consequences of their frequent ineptitude. [2]How did I come to write an analysis of the Deep State, and why am I equipped to write it? As a congressional staff member for 28 years specializing in national security and possessing a top secret security clearance, I was at least on the fringes of the world I am describing, if neither totally in it by virtue of full membership nor of it by psychological disposition. But, like virtually every employed person, I became, to some extent, assimilated into the culture of the institution I worked for, and only by slow degrees, starting before the invasion of Iraq, did I begin fundamentally to question the reasons of state that motivate the people who are, to quote George W. Bush,  the deciders. Cultural assimilation is partly a matter of what psychologist Irving L. Janis called  groupthink,  the chameleon-like ability of people to adopt the views of their superiors and peers. This syndrome is endemic to Washington: The town is characterized by sudden fads, be it negotiating biennial budgeting, making grand bargains or invading countries. Then, after a while, all the town s cool kids drop those ideas as if they were radioactive. As in the military, everybody has to get on board with the mission, and questioning it is not a career-enhancing move. The universe of people who will critically examine the goings-on at the institutions they work for is always going to be a small one. As Upton Sinclair said,  It is difficult to get a man to understand something when his salary depends upon his not understanding it. A more elusive aspect of cultural assimilation is the sheer dead weight of the ordinariness of it all once you have planted yourself in your office chair for the 10,000th time. Government life is typically not some vignette from an Allen Drury novel about intrigue under the Capitol dome. Sitting and staring at the clock on the off-white office wall when it s 11:00 in the evening and you are vowing never, ever to eat another piece of takeout pizza in your life is not an experience that summons the higher literary instincts of a would-be memoirist. After a while, a functionary of the state begins to hear things that, in another context, would be quite remarkable, or at least noteworthy, and yet that simply bounce off one s consciousness like pebbles off steel plate:  You mean the number of terrorist groups we are fighting is classified?  No wonder so few people are whistle-blowers, quite apart from the vicious retaliation whistle-blowing often provokes: Unless one is blessed with imagination and a fine sense of irony, growing immune to the curiousness of one s surroundings is easy. To paraphrase the inimitable Donald Rumsfeld, I didn t know all that I knew, at least until I had had a couple of years away from the government to reflect upon it.The Deep State does not consist of the entire government. It is a hybrid of national security and law enforcement agencies: the Department of Defense, the Department of State, the Department of Homeland Security, the Central Intelligence Agency and the Justice Department. I also include the Department of the Treasury because of its jurisdiction over financial flows, its enforcement of international sanctions and its organic symbiosis with Wall Street. All these agencies are coordinated by the Executive Office of the President via the National Security Council. Certain key areas of the judiciary belong to the Deep State, such as the Foreign Intelligence Surveillance Court, whose actions are mysterious even to most members of Congress. Also included are a handful of vital federal trial courts, such as the Eastern District of Virginia and the Southern District of Manhattan, where sensitive proceedings in national security cases are conducted. The final government component (and possibly last in precedence among the formal branches of government established by the Constitution) is a kind of rump Congress consisting of the congressional leadership and some (but not all) of the members of the defense and intelligence committees. The rest of Congress, normally so fractious and partisan, is mostly only intermittently aware of the Deep State and when required usually submits to a few well-chosen words from the State s emissaries.I saw this submissiveness on many occasions. One memorable incident was passage of the Foreign Intelligence Surveillance Amendments Act of 2008. This legislation retroactively legalized the Bush administration s illegal and unconstitutional surveillance first revealed by The New York Times in 2005 and indemnified the telecommunications companies for their cooperation in these acts. The bill passed easily: All that was required was the invocation of the word  terrorism  and most members of Congress responded like iron filings obeying a magnet. One who responded in that fashion was Senator Barack Obama, soon to be coronated as the presidential nominee at the Democratic National Convention in Denver. He had already won the most delegates by campaigning to the left of his main opponent, Hillary Clinton, on the excesses of the global war on terror and the erosion of constitutional liberties.As the indemnification vote showed, the Deep State does not consist only of government agencies. What is euphemistically called  private enterprise  is an integral part of its operations. In a special series in The Washington Post called  Top Secret America,  Dana Priest and William K. Arkin described the scope of the privatized Deep State and the degree to which it has metastasized after the September 11 attacks. There are now 854,000 contract personnel with top-secret clearances   a number greater than that of top-secret-cleared civilian employees of the government. While they work throughout the country and the world, their heavy concentration in and around the Washington suburbs is unmistakable: Since 9/11, 33 facilities for top-secret intelligence have been built or are under construction. Combined, they occupy the floor space of almost three Pentagons   about 17 million square feet. Seventy percent of the intelligence community s budget goes to paying contracts. And the membrane between government and industry is highly permeable: The Director of National Intelligence, James R. Clapper, is a former executive of Booz Allen Hamilton, one of the government s largest intelligence contractors. His predecessor as director, Admiral Mike McConnell, is the current vice chairman of the same company; Booz Allen is 99 percent dependent on government business. These contractors now set the political and social tone of Washington, just as they are increasingly setting the direction of the country, but they are doing it quietly, their doings unrecorded in the Congressional Record or the Federal Register, and are rarely subject to congressional hearings.Washington is the most important node of the Deep State that has taken over America, but it is not the only one. Invisible threads of money and ambition connect the town to other nodes. One is Wall Street, which supplies the cash that keeps the political machine quiescent and operating as a diversionary marionette theater. Should the politicians forget their lines and threaten the status quo, Wall Street floods the town with cash and lawyers to help the hired hands remember their own best interests. The executives of the financial giants even have de facto criminal immunity. On March 6, 2013, testifying before the Senate Judiciary Committee, Attorney General Eric Holder stated the following:  I am concerned that the size of some of these institutions becomes so large that it does become difficult for us to prosecute them when we are hit with indications that if you do prosecute, if you do bring a criminal charge, it will have a negative impact on the national economy, perhaps even the world economy.  This, from the chief law enforcement officer of a justice system that has practically abolished the constitutional right to trial for poorer defendants charged with certain crimes. It is not too much to say that Wall Street may be the ultimate owner of the Deep State and its strategies, if for no other reason than that it has the money to reward government operatives with a second career that is lucrative beyond the dreams of avarice   certainly beyond the dreams of a salaried government employee. [3]The corridor between Manhattan and Washington is a well trodden highway for the personalities we have all gotten to know in the period since the massive deregulation of Wall Street: Robert Rubin, Lawrence Summers, Henry Paulson, Timothy Geithner and many others. Not all the traffic involves persons connected with the purely financial operations of the government: In 2013, General David Petraeus joined KKR (formerly Kohlberg Kravis Roberts) of 9 West 57th Street, New York, a private equity firm with $62.3 billion in assets. KKR specializes in management buyouts and leveraged finance. General Petraeus  expertise in these areas is unclear. His ability to peddle influence, however, is a known and valued commodity. Unlike Cincinnatus, the military commanders of the Deep State do not take up the plow once they lay down the sword. Petraeus also obtained a sinecure as a non-resident senior fellow at the Belfer Center for Science and International Affairs at Harvard. The Ivy League is, of course, the preferred bleaching tub and charm school of the American oligarchy. [4]Petraeus and most of the avatars of the Deep State   the White House advisers who urged Obama not to impose compensation limits on Wall Street CEOs, the contractor-connected think tank experts who besought us to  stay the course  in Iraq, the economic gurus who perpetually demonstrate that globalization and deregulation are a blessing that makes us all better off in the long run   are careful to pretend that they have no ideology. Their preferred pose is that of the politically neutral technocrat offering well considered advice based on profound expertise. That is nonsense. They are deeply dyed in the hue of the official ideology of the governing class, an ideology that is neither specifically Democrat nor Republican. Domestically, whatever they might privately believe about essentially diversionary social issues such as abortion or gay marriage, they almost invariably believe in the  Washington Consensus : financialization, outsourcing, privatization, deregulation and the commodifying of labor. Internationally, they espouse 21st-century  American Exceptionalism : the right and duty of the United States to meddle in every region of the world with coercive diplomacy and boots on the ground and to ignore painfully won international norms of civilized behavior. To paraphrase what Sir John Harrington said more than 400 years ago about treason, now that the ideology of the Deep State has prospered, none dare call it ideology. [5] That is why describing torture with the word  torture  on broadcast television is treated less as political heresy than as an inexcusable lapse of Washington etiquette: Like smoking a cigarette on camera, these days it is simply  not done. After Edward Snowden s revelations about the extent and depth of surveillance by the National Security Agency, it has become publicly evident that Silicon Valley is a vital node of the Deep State as well. Unlike military and intelligence contractors, Silicon Valley overwhelmingly sells to the private market, but its business is so important to the government that a strange relationship has emerged. While the government could simply dragoon the high technology companies to do the NSA s bidding, it would prefer cooperation with so important an engine of the nation s economy, perhaps with an implied quid pro quo. Perhaps this explains the extraordinary indulgence the government shows the Valley in intellectual property matters. If an American  jailbreaks  his smartphone (i.e., modifies it so that it can use a service provider other than the one dictated by the manufacturer), he could receive a fine of up to $500,000 and several years in prison; so much for a citizen s vaunted property rights to what he purchases. The libertarian pose of the Silicon Valley moguls, so carefully cultivated in their public relations, has always been a sham. Silicon Valley has long been tracking for commercial purposes the activities of every person who uses an electronic device, so it is hardly surprising that the Deep State should emulate the Valley and do the same for its own purposes. Nor is it surprising that it should conscript the Valley s assistance.Still, despite the essential roles of lower Manhattan and Silicon Valley, the center of gravity of the Deep State is firmly situated in and around the Beltway. The Deep State s physical expansion and consolidation around the Beltway would seem to make a mockery of the frequent pronouncement that governance in Washington is dysfunctional and broken. That the secret and unaccountable Deep State floats freely above the gridlock between both ends of Pennsylvania Avenue is the paradox of American government in the 21st century: drone strikes, data mining, secret prisons and Panopticon-like control on the one hand; and on the other, the ordinary, visible parliamentary institutions of self-government declining to the status of a banana republic amid the gradual collapse of public infrastructure.The results of this contradiction are not abstract, as a tour of the rotting, decaying, bankrupt cities of the American Midwest will attest. It is not even confined to those parts of the country left behind by a Washington Consensus that decreed the financialization and deindustrialization of the economy in the interests of efficiency and shareholder value. This paradox is evident even within the Beltway itself, the richest metropolitan area in the nation. Although demographers and urban researchers invariably count Washington as a  world city,  that is not always evident to those who live there. Virtually every time there is a severe summer thunderstorm, tens   or even hundreds   of thousands of residents lose power, often for many days. There are occasional water restrictions over wide areas because water mains, poorly constructed and inadequately maintained, have burst. [6] The Washington metropolitan area considers it a Herculean task just to build a rail link to its international airport   with luck it may be completed by 2018.It is as if Hadrian s Wall was still fully manned and the fortifications along the border with Germania were never stronger, even as the city of Rome disintegrates from within and the life-sustaining aqueducts leading down from the hills begin to crumble. The governing classes of the Deep State may continue to deceive themselves with their dreams of Zeus-like omnipotence, but others do not. A 2013 Pew Poll that interviewed 38,000 people around the world found that in 23 of 39 countries surveyed, a plurality of respondents said they believed China already had or would in the future replace the United States as the world s top economic power.The Deep State is the big story of our time. It is the red thread that runs through the war on terrorism, the financialization and deindustrialization of the American economy, the rise of a plutocratic social structure and political dysfunction. Washington is the headquarters of the Deep State, and its time in the sun as a rival to Rome, Constantinople or London may be term-limited by its overweening sense of self-importance and its habit, as Winwood Reade said of Rome, to  live upon its principal till ruin stared it in the face.   Living upon its principal,  in this case, means that the Deep State has been extracting value from the American people in vampire-like fashion.We are faced with two disagreeable implications. First, that the Deep State is so heavily entrenched, so well protected by surveillance, firepower, money and its ability to co-opt resistance that it is almost impervious to change. Second, that just as in so many previous empires, the Deep State is populated with those whose instinctive reaction to the failure of their policies is to double down on those very policies in the future. Iraq was a failure briefly camouflaged by the wholly propagandistic success of the so-called surge; this legerdemain allowed for the surge in Afghanistan, which equally came to naught. Undeterred by that failure, the functionaries of the Deep State plunged into Libya; the smoking rubble of the Benghazi consulate, rather than discouraging further misadventure, seemed merely to incite the itch to bomb Syria. Will the Deep State ride on the back of the American people from failure to failure until the country itself, despite its huge reserves of human and material capital, is slowly exhausted? The dusty road of empire is strewn with the bones of former great powers that exhausted themselves in like manner.But, there are signs of resistance to the Deep State and its demands. In the aftermath of the Snowden revelations, the House narrowly failed to pass an amendment that would have defunded the NSA s warrantless collection of data from US persons. Shortly thereafter, the president, advocating yet another military intervention in the Middle East, this time in Syria, met with such overwhelming congressional skepticism that he changed the subject by grasping at a diplomatic lifeline thrown to him by Vladimir Putin. [7]Has the visible, constitutional state, the one envisaged by Madison and the other Founders, finally begun to reassert itself against the claims and usurpations of the Deep State? To some extent, perhaps. The unfolding revelations of the scope of the NSA s warrantless surveillance have become so egregious that even institutional apologists such as Senator Dianne Feinstein have begun to backpedal   if only rhetorically   from their knee-jerk defense of the agency. As more people begin to waken from the fearful and suggestible state that 9/11 created in their minds, it is possible that the Deep State s decade-old tactic of crying  terrorism!  every time it faces resistance is no longer eliciting the same Pavlovian response of meek obedience. And the American people, possibly even their legislators, are growing tired of endless quagmires in the Middle East.But there is another more structural reason the Deep State may have peaked in the extent of its dominance. While it seems to float above the constitutional state, its essentially parasitic, extractive nature means that it is still tethered to the formal proceedings of governance. The Deep State thrives when there is tolerable functionality in the day-to-day operations of the federal government. As long as appropriations bills get passed on time, promotion lists get confirmed, black (i.e., secret) budgets get rubber-stamped, special tax subsidies for certain corporations are approved without controversy, as long as too many awkward questions are not asked, the gears of the hybrid state will mesh noiselessly. But when one house of Congress is taken over by tea party Wahhabites, life for the ruling class becomes more trying.If there is anything the Deep State requires it is silent, uninterrupted cash flow and the confidence that things will go on as they have in the past. It is even willing to tolerate a degree of gridlock: Partisan mud wrestling over cultural issues may be a useful distraction from its agenda. But recent congressional antics involving sequestration, the government shutdown and the threat of default over the debt ceiling extension have been disrupting that equilibrium. And an extreme gridlock dynamic has developed between the two parties such that continuing some level of sequestration is politically the least bad option for both parties, albeit for different reasons. As much as many Republicans might want to give budget relief to the organs of national security, they cannot fully reverse sequestration without the Democrats demanding revenue increases. And Democrats wanting to spend more on domestic discretionary programs cannot void sequestration on either domestic or defense programs without Republicans insisting on entitlement cuts.So, for the foreseeable future, the Deep State must restrain its appetite for taxpayer dollars. Limited deals may soften sequestration, but agency requests will not likely be fully funded anytime soon. Even Wall Street s rentier operations have been affected: After helping finance the tea party to advance its own plutocratic ambitions, America s Big Money is now regretting the Frankenstein s monster it has created. Like children playing with dynamite, the tea party and its compulsion to drive the nation into credit default has alarmed the grown-ups commanding the heights of capital; the latter are now telling the politicians they thought they had hired to knock it off.The House vote to defund the NSA s illegal surveillance programs was equally illustrative of the disruptive nature of the tea party insurgency. Civil liberties Democrats alone would never have come so close to victory; tea party stalwart Justin Amash (R-MI), who has also upset the business community for his debt-limit fundamentalism, was the lead Republican sponsor of the NSA amendment, and most of the Republicans who voted with him were aligned with the tea party.The final factor is Silicon Valley. Owing to secrecy and obfuscation, it is hard to know how much of the NSA s relationship with the Valley is based on voluntary cooperation, how much is legal compulsion through FISA warrants and how much is a matter of the NSA surreptitiously breaking into technology companies  systems. Given the Valley s public relations requirement to mollify its customers who have privacy concerns, it is difficult to take the tech firms  libertarian protestations about government compromise of their systems at face value, especially since they engage in similar activity against their own customers for commercial purposes. That said, evidence is accumulating that Silicon Valley is losing billions in overseas business from companies, individuals and governments that want to maintain privacy. For high tech entrepreneurs, the cash nexus is ultimately more compelling than the Deep State s demand for patriotic cooperation. Even legal compulsion can be combatted: Unlike the individual citizen, tech firms have deep pockets and batteries of lawyers with which to fight government diktat.This pushback has gone so far that on January 17, President Obama announced revisions to the NSA s data collection programs, including withdrawing the agency s custody of a domestic telephone record database, expanding requirements for judicial warrants and ceasing to spy on (undefined)  friendly foreign leaders.  Critics have denounced the changes as a cosmetic public relations move, but they are still significant in that the clamor has gotten so loud that the president feels the political need to address it.When the contradictions within a ruling ideology are pushed too far, factionalism appears and that ideology begins slowly to crumble. Corporate oligarchs such as the Koch brothers are no longer entirely happy with the faux-populist political front group they helped fund and groom. Silicon Valley, for all the Ayn Rand-like tendencies of its major players, its offshoring strategies and its further exacerbation of income inequality, is now lobbying Congress to restrain the NSA, a core component of the Deep State. Some tech firms are moving to encrypt their data. High tech corporations and governments alike seek dominance over people though collection of personal data, but the corporations are jumping ship now that adverse public reaction to the NSA scandals threatens their profits.The outcome of all these developments is uncertain. The Deep State, based on the twin pillars of national security imperative and corporate hegemony, has until recently seemed unshakable and the latest events may only be a temporary perturbation in its trajectory. But history has a way of toppling the altars of the mighty. While the two great materialist and determinist ideologies of the twentieth century, Marxism and the Washington Consensus, successively decreed that the dictatorship of the proletariat and the dictatorship of the market were inevitable, the future is actually indeterminate. It may be that deep economic and social currents create the framework of history, but those currents can be channeled, eddied, or even re'"
      ]
     },
     "execution_count": 11,
     "metadata": {},
     "output_type": "execute_result"
    }
   ],
   "source": [
    "df[df['length'] == 32759]['text'].iloc[0]"
   ]
  },
  {
   "cell_type": "code",
   "execution_count": 12,
   "metadata": {},
   "outputs": [
    {
     "data": {
      "text/plain": [
       "' '"
      ]
     },
     "execution_count": 12,
     "metadata": {},
     "output_type": "execute_result"
    }
   ],
   "source": [
    "df[df['length'] == 1]['text'].iloc[0]"
   ]
  },
  {
   "cell_type": "code",
   "execution_count": 13,
   "metadata": {},
   "outputs": [
    {
     "data": {
      "text/plain": [
       "\"During an uncharacteristically blistering hot day, San Francisco residents noticed a surprising sight on Friday morning. There was smoke spewing out of the Russian Consulate that s scheduled to close and it s something Special Investigator Robert Mueller might want to look into.Temperatures on Friday barely escaped triple digits and it was a Spare the Air day in San Francisco, meaning that residents weren t allowed to burn their fireplaces (as if they d want to). Still, neighbors and the fire department were surprised to see black smoke coming from the chimney at the Russian Consulate.When the fire department arrived at the scene, they were turned away after allegedly being told that there wasn t a problem and that they were burning unidentified items in a fireplace.Mindy Talamadge, a spokeswoman from the San Francisco Fire Department, said the department received a call about the smoke and sent a crew to investigate but determined the smoke was coming from the chimney. They had a fire going in their fireplace,  she said.Talmadge said she did not know what they were burning on a day when normally cool San Francisco temperatures had already climbed to 95 degrees by noon. It was not unintentional. They were burning something in their fireplace,  she said.Source: SF ChronicleRemember, this is the consulate that Donald Trump ordered closed in retribution for Vladimir Putin s kicking diplomats out of Russia. Saturday is the deadline for the consulate to be closed.While the closure of the consulate and two diplomatic annexes might sound like a strong stance against Russia, it s a token measure, at best. Not a single diplomat is being kicked out of the country and the main consulate in Washington, D.C. will remain open.Saturday is the deadline for the oldest Russian consulate in the United States to close its doors. According to Russian propaganda Times, U.S. security services are set to search the facility on Saturday and it certainly appears that there s something in the San Francisco consulate that the Russians don t want Americans to find, or perhaps there s something that Trump doesn t want Americans to find.Update: Smoke was also seen outside the Russian consulate in Washington, D.C.EXCLUSIVE: Here's the fire in back of about to-be-closed DC Russia trade rep building. @janawinter on the scene. pic.twitter.com/oKoKX2OIBv  Foreign Policy (@ForeignPolicy) September 1, 2017 Featured image via Justin Sullivan/Getty Images\""
      ]
     },
     "execution_count": 13,
     "metadata": {},
     "output_type": "execute_result"
    }
   ],
   "source": [
    "df[df['length'] == 2459]['text'].iloc[0]"
   ]
  },
  {
   "cell_type": "markdown",
   "metadata": {},
   "source": [
    "#### What are the topics of the articles? Mostly News (politics, world)"
   ]
  },
  {
   "cell_type": "code",
   "execution_count": 14,
   "metadata": {},
   "outputs": [
    {
     "data": {
      "text/plain": [
       "<matplotlib.axes._subplots.AxesSubplot at 0x1d8ef66a400>"
      ]
     },
     "execution_count": 14,
     "metadata": {},
     "output_type": "execute_result"
    },
    {
     "data": {
      "image/png": "[encoded data removed]",
      "text/plain": [
       "<Figure size 432x288 with 1 Axes>"
      ]
     },
     "metadata": {
      "needs_background": "light"
     },
     "output_type": "display_data"
    }
   ],
   "source": [
    "sns.countplot(y = 'subject', data=df)"
   ]
  },
  {
   "cell_type": "code",
   "execution_count": 15,
   "metadata": {},
   "outputs": [],
   "source": [
    "df = df.dropna()"
   ]
  },
  {
   "cell_type": "code",
   "execution_count": 16,
   "metadata": {},
   "outputs": [],
   "source": [
    "df['lengthd'] = df['date'].apply(len)"
   ]
  },
  {
   "cell_type": "code",
   "execution_count": 17,
   "metadata": {},
   "outputs": [
    {
     "data": {
      "text/plain": [
       "count    44875.000000\n",
       "mean         9.064869\n",
       "std          1.420018\n",
       "min          8.000000\n",
       "25%          9.000000\n",
       "50%          9.000000\n",
       "75%          9.000000\n",
       "max        149.000000\n",
       "Name: lengthd, dtype: float64"
      ]
     },
     "execution_count": 17,
     "metadata": {},
     "output_type": "execute_result"
    }
   ],
   "source": [
    "df.lengthd.describe()"
   ]
  },
  {
   "cell_type": "code",
   "execution_count": 18,
   "metadata": {},
   "outputs": [],
   "source": [
    "index_names = df[ df['lengthd'] > 12 ].index "
   ]
  },
  {
   "cell_type": "code",
   "execution_count": 19,
   "metadata": {},
   "outputs": [],
   "source": [
    "df.drop(index_names, inplace = True) "
   ]
  },
  {
   "cell_type": "code",
   "execution_count": 20,
   "metadata": {},
   "outputs": [],
   "source": [
    "df['date'] = pd.to_datetime(df['date'])"
   ]
  },
  {
   "cell_type": "code",
   "execution_count": 21,
   "metadata": {},
   "outputs": [],
   "source": [
    "df['year'] = df['date'].dt.year\n",
    "\n",
    "#df['month'] =df['month'].dt.month\n",
    "\n"
   ]
  },
  {
   "cell_type": "markdown",
   "metadata": {},
   "source": [
    "#### When were the articles published? "
   ]
  },
  {
   "cell_type": "code",
   "execution_count": 22,
   "metadata": {},
   "outputs": [
    {
     "data": {
      "text/plain": [
       "<matplotlib.axes._subplots.AxesSubplot at 0x1d8ef720c88>"
      ]
     },
     "execution_count": 22,
     "metadata": {},
     "output_type": "execute_result"
    },
    {
     "data": {
      "image/png": "[encoded data removed]",
      "text/plain": [
       "<Figure size 432x288 with 1 Axes>"
      ]
     },
     "metadata": {
      "needs_background": "light"
     },
     "output_type": "display_data"
    }
   ],
   "source": [
    "sns.countplot(y = 'year', data=df)"
   ]
  },
  {
   "cell_type": "code",
   "execution_count": 23,
   "metadata": {},
   "outputs": [
    {
     "data": {
      "text/plain": [
       "title      35\n",
       "text       35\n",
       "subject    35\n",
       "date       35\n",
       "Fake       35\n",
       "length     35\n",
       "lengthd    35\n",
       "year       35\n",
       "dtype: int64"
      ]
     },
     "execution_count": 23,
     "metadata": {},
     "output_type": "execute_result"
    }
   ],
   "source": [
    "df[df['year'] == 2018].count()"
   ]
  },
  {
   "cell_type": "code",
   "execution_count": 24,
   "metadata": {},
   "outputs": [],
   "source": [
    "df['month'] =df['date'].dt.month\n"
   ]
  },
  {
   "cell_type": "markdown",
   "metadata": {},
   "source": [
    "#### What month did they get published?"
   ]
  },
  {
   "cell_type": "code",
   "execution_count": 25,
   "metadata": {},
   "outputs": [
    {
     "data": {
      "text/plain": [
       "<matplotlib.axes._subplots.AxesSubplot at 0x1d8ef877128>"
      ]
     },
     "execution_count": 25,
     "metadata": {},
     "output_type": "execute_result"
    },
    {
     "data": {
      "image/png": "[encoded data removed]",
      "text/plain": [
       "<Figure size 432x288 with 1 Axes>"
      ]
     },
     "metadata": {
      "needs_background": "light"
     },
     "output_type": "display_data"
    }
   ],
   "source": [
    "sns.countplot(y = 'month', data=df)"
   ]
  },
  {
   "cell_type": "markdown",
   "metadata": {},
   "source": [
    "#### What is the distribution of fake vs true news? it is a fairly balanced dateset"
   ]
  },
  {
   "cell_type": "code",
   "execution_count": 26,
   "metadata": {},
   "outputs": [
    {
     "data": {
      "text/plain": [
       "<matplotlib.axes._subplots.AxesSubplot at 0x1d8ef887780>"
      ]
     },
     "execution_count": 26,
     "metadata": {},
     "output_type": "execute_result"
    },
    {
     "data": {
      "image/png": "[encoded data removed]",
      "text/plain": [
       "<Figure size 432x288 with 1 Axes>"
      ]
     },
     "metadata": {
      "needs_background": "light"
     },
     "output_type": "display_data"
    }
   ],
   "source": [
    "sns.countplot(y = 'Fake', data=df)"
   ]
  },
  {
   "cell_type": "code",
   "execution_count": null,
   "metadata": {},
   "outputs": [],
   "source": []
  },
  {
   "cell_type": "code",
   "execution_count": 27,
   "metadata": {},
   "outputs": [
    {
     "data": {
      "text/html": [
       "<div>\n",
       "<style scoped>\n",
       "    .dataframe tbody tr th:only-of-type {\n",
       "        vertical-align: middle;\n",
       "    }\n",
       "\n",
       "    .dataframe tbody tr th {\n",
       "        vertical-align: top;\n",
       "    }\n",
       "\n",
       "    .dataframe thead th {\n",
       "        text-align: right;\n",
       "    }\n",
       "</style>\n",
       "<table border=\"1\" class=\"dataframe\">\n",
       "  <thead>\n",
       "    <tr style=\"text-align: right;\">\n",
       "      <th></th>\n",
       "      <th>Fake</th>\n",
       "      <th>length</th>\n",
       "      <th>lengthd</th>\n",
       "      <th>year</th>\n",
       "      <th>month</th>\n",
       "    </tr>\n",
       "  </thead>\n",
       "  <tbody>\n",
       "    <tr>\n",
       "      <th>count</th>\n",
       "      <td>44867.000000</td>\n",
       "      <td>44867.000000</td>\n",
       "      <td>44867.000000</td>\n",
       "      <td>44867.000000</td>\n",
       "      <td>44867.000000</td>\n",
       "    </tr>\n",
       "    <tr>\n",
       "      <th>mean</th>\n",
       "      <td>0.522656</td>\n",
       "      <td>2451.162346</td>\n",
       "      <td>9.049056</td>\n",
       "      <td>2016.523436</td>\n",
       "      <td>7.220229</td>\n",
       "    </tr>\n",
       "    <tr>\n",
       "      <th>std</th>\n",
       "      <td>0.499492</td>\n",
       "      <td>1992.144491</td>\n",
       "      <td>0.650088</td>\n",
       "      <td>0.601268</td>\n",
       "      <td>3.520257</td>\n",
       "    </tr>\n",
       "    <tr>\n",
       "      <th>min</th>\n",
       "      <td>0.000000</td>\n",
       "      <td>1.000000</td>\n",
       "      <td>8.000000</td>\n",
       "      <td>2015.000000</td>\n",
       "      <td>1.000000</td>\n",
       "    </tr>\n",
       "    <tr>\n",
       "      <th>25%</th>\n",
       "      <td>0.000000</td>\n",
       "      <td>1234.500000</td>\n",
       "      <td>9.000000</td>\n",
       "      <td>2016.000000</td>\n",
       "      <td>4.000000</td>\n",
       "    </tr>\n",
       "    <tr>\n",
       "      <th>50%</th>\n",
       "      <td>1.000000</td>\n",
       "      <td>2186.000000</td>\n",
       "      <td>9.000000</td>\n",
       "      <td>2017.000000</td>\n",
       "      <td>8.000000</td>\n",
       "    </tr>\n",
       "    <tr>\n",
       "      <th>75%</th>\n",
       "      <td>1.000000</td>\n",
       "      <td>3103.500000</td>\n",
       "      <td>9.000000</td>\n",
       "      <td>2017.000000</td>\n",
       "      <td>10.000000</td>\n",
       "    </tr>\n",
       "    <tr>\n",
       "      <th>max</th>\n",
       "      <td>1.000000</td>\n",
       "      <td>32655.000000</td>\n",
       "      <td>10.000000</td>\n",
       "      <td>2018.000000</td>\n",
       "      <td>12.000000</td>\n",
       "    </tr>\n",
       "  </tbody>\n",
       "</table>\n",
       "</div>"
      ],
      "text/plain": [
       "               Fake        length       lengthd          year         month\n",
       "count  44867.000000  44867.000000  44867.000000  44867.000000  44867.000000\n",
       "mean       0.522656   2451.162346      9.049056   2016.523436      7.220229\n",
       "std        0.499492   1992.144491      0.650088      0.601268      3.520257\n",
       "min        0.000000      1.000000      8.000000   2015.000000      1.000000\n",
       "25%        0.000000   1234.500000      9.000000   2016.000000      4.000000\n",
       "50%        1.000000   2186.000000      9.000000   2017.000000      8.000000\n",
       "75%        1.000000   3103.500000      9.000000   2017.000000     10.000000\n",
       "max        1.000000  32655.000000     10.000000   2018.000000     12.000000"
      ]
     },
     "execution_count": 27,
     "metadata": {},
     "output_type": "execute_result"
    }
   ],
   "source": [
    "df.describe()"
   ]
  },
  {
   "cell_type": "markdown",
   "metadata": {},
   "source": [
    "### Start cleaning the text : remove punctuation, stopword, stemming, and tokenize"
   ]
  },
  {
   "cell_type": "code",
   "execution_count": 28,
   "metadata": {},
   "outputs": [
    {
     "data": {
      "text/plain": [
       "'!\"#$%&\\'()*+,-./:;<=>?@[\\\\]^_`{|}~'"
      ]
     },
     "execution_count": 28,
     "metadata": {},
     "output_type": "execute_result"
    }
   ],
   "source": [
    "import string\n",
    "string.punctuation"
   ]
  },
  {
   "cell_type": "code",
   "execution_count": 29,
   "metadata": {},
   "outputs": [
    {
     "name": "stderr",
     "output_type": "stream",
     "text": [
      "[nltk_data] Downloading package stopwords to C:\\Users\\Lucia\n",
      "[nltk_data]     Casucci\\AppData\\Roaming\\nltk_data...\n",
      "[nltk_data]   Package stopwords is already up-to-date!\n"
     ]
    },
    {
     "data": {
      "text/plain": [
       "True"
      ]
     },
     "execution_count": 29,
     "metadata": {},
     "output_type": "execute_result"
    }
   ],
   "source": [
    "import nltk\n",
    "nltk.download('stopwords')\n",
    "  "
   ]
  },
  {
   "cell_type": "code",
   "execution_count": 30,
   "metadata": {},
   "outputs": [
    {
     "data": {
      "text/plain": [
       "['i',\n",
       " 'me',\n",
       " 'my',\n",
       " 'myself',\n",
       " 'we',\n",
       " 'our',\n",
       " 'ours',\n",
       " 'ourselves',\n",
       " 'you',\n",
       " \"you're\",\n",
       " \"you've\",\n",
       " \"you'll\",\n",
       " \"you'd\",\n",
       " 'your',\n",
       " 'yours',\n",
       " 'yourself',\n",
       " 'yourselves',\n",
       " 'he',\n",
       " 'him',\n",
       " 'his',\n",
       " 'himself',\n",
       " 'she',\n",
       " \"she's\",\n",
       " 'her',\n",
       " 'hers',\n",
       " 'herself',\n",
       " 'it',\n",
       " \"it's\",\n",
       " 'its',\n",
       " 'itself',\n",
       " 'they',\n",
       " 'them',\n",
       " 'their',\n",
       " 'theirs',\n",
       " 'themselves',\n",
       " 'what',\n",
       " 'which',\n",
       " 'who',\n",
       " 'whom',\n",
       " 'this',\n",
       " 'that',\n",
       " \"that'll\",\n",
       " 'these',\n",
       " 'those',\n",
       " 'am',\n",
       " 'is',\n",
       " 'are',\n",
       " 'was',\n",
       " 'were',\n",
       " 'be',\n",
       " 'been',\n",
       " 'being',\n",
       " 'have',\n",
       " 'has',\n",
       " 'had',\n",
       " 'having',\n",
       " 'do',\n",
       " 'does',\n",
       " 'did',\n",
       " 'doing',\n",
       " 'a',\n",
       " 'an',\n",
       " 'the',\n",
       " 'and',\n",
       " 'but',\n",
       " 'if',\n",
       " 'or',\n",
       " 'because',\n",
       " 'as',\n",
       " 'until',\n",
       " 'while',\n",
       " 'of',\n",
       " 'at',\n",
       " 'by',\n",
       " 'for',\n",
       " 'with',\n",
       " 'about',\n",
       " 'against',\n",
       " 'between',\n",
       " 'into',\n",
       " 'through',\n",
       " 'during',\n",
       " 'before',\n",
       " 'after',\n",
       " 'above',\n",
       " 'below',\n",
       " 'to',\n",
       " 'from',\n",
       " 'up',\n",
       " 'down',\n",
       " 'in',\n",
       " 'out',\n",
       " 'on',\n",
       " 'off',\n",
       " 'over',\n",
       " 'under',\n",
       " 'again',\n",
       " 'further',\n",
       " 'then',\n",
       " 'once',\n",
       " 'here',\n",
       " 'there',\n",
       " 'when',\n",
       " 'where',\n",
       " 'why',\n",
       " 'how',\n",
       " 'all',\n",
       " 'any',\n",
       " 'both',\n",
       " 'each',\n",
       " 'few',\n",
       " 'more',\n",
       " 'most',\n",
       " 'other',\n",
       " 'some',\n",
       " 'such',\n",
       " 'no',\n",
       " 'nor',\n",
       " 'not',\n",
       " 'only',\n",
       " 'own',\n",
       " 'same',\n",
       " 'so',\n",
       " 'than',\n",
       " 'too',\n",
       " 'very',\n",
       " 's',\n",
       " 't',\n",
       " 'can',\n",
       " 'will',\n",
       " 'just',\n",
       " 'don',\n",
       " \"don't\",\n",
       " 'should',\n",
       " \"should've\",\n",
       " 'now',\n",
       " 'd',\n",
       " 'll',\n",
       " 'm',\n",
       " 'o',\n",
       " 're',\n",
       " 've',\n",
       " 'y',\n",
       " 'ain',\n",
       " 'aren',\n",
       " \"aren't\",\n",
       " 'couldn',\n",
       " \"couldn't\",\n",
       " 'didn',\n",
       " \"didn't\",\n",
       " 'doesn',\n",
       " \"doesn't\",\n",
       " 'hadn',\n",
       " \"hadn't\",\n",
       " 'hasn',\n",
       " \"hasn't\",\n",
       " 'haven',\n",
       " \"haven't\",\n",
       " 'isn',\n",
       " \"isn't\",\n",
       " 'ma',\n",
       " 'mightn',\n",
       " \"mightn't\",\n",
       " 'mustn',\n",
       " \"mustn't\",\n",
       " 'needn',\n",
       " \"needn't\",\n",
       " 'shan',\n",
       " \"shan't\",\n",
       " 'shouldn',\n",
       " \"shouldn't\",\n",
       " 'wasn',\n",
       " \"wasn't\",\n",
       " 'weren',\n",
       " \"weren't\",\n",
       " 'won',\n",
       " \"won't\",\n",
       " 'wouldn',\n",
       " \"wouldn't\"]"
      ]
     },
     "execution_count": 30,
     "metadata": {},
     "output_type": "execute_result"
    }
   ],
   "source": [
    "from nltk.corpus import stopwords\n",
    "stopwords.words('english')\n"
   ]
  },
  {
   "cell_type": "code",
   "execution_count": 31,
   "metadata": {},
   "outputs": [],
   "source": [
    "from sklearn.feature_extraction.text import CountVectorizer\n",
    "from nltk.stem.porter import PorterStemmer \n"
   ]
  },
  {
   "cell_type": "code",
   "execution_count": 32,
   "metadata": {},
   "outputs": [],
   "source": [
    "ps = PorterStemmer()"
   ]
  },
  {
   "cell_type": "code",
   "execution_count": 33,
   "metadata": {},
   "outputs": [],
   "source": [
    "# Let's define a pipeline to clean up all the messages \n",
    "# The pipeline performs the following: (1) remove punctuation, (2) remove stopwords\n",
    "\n",
    "def message_cleaning(message):\n",
    "    Test_punc_removed = [char for char in message if char not in string.punctuation]\n",
    "    Test_punc_removed_join = ''.join(Test_punc_removed)\n",
    "    Test_punc_removed_join_clean = [word for word in Test_punc_removed_join.split() if word.lower() not in stopwords.words('english')]\n",
    "    Test_punc_removed_join_clean2 = [ps.stem(word) for word in Test_punc_removed_join_clean if word.lower() not in stopwords.words('english')]\n",
    "    return Test_punc_removed_join_clean2"
   ]
  },
  {
   "cell_type": "code",
   "execution_count": 34,
   "metadata": {},
   "outputs": [],
   "source": [
    "df_clean = df['text'].apply(message_cleaning)"
   ]
  },
  {
   "cell_type": "code",
   "execution_count": 35,
   "metadata": {},
   "outputs": [
    {
     "name": "stdout",
     "output_type": "stream",
     "text": [
      "['donald', 'trump', 'wish', 'american', 'happi', 'new', 'year', 'leav', 'instead', 'give', 'shout', 'enemi', 'hater', 'dishonest', 'fake', 'news', 'media', 'former', 'realiti', 'show', 'star', 'one', 'job', 'countri', 'rapidli', 'grow', 'stronger', 'smarter', 'want', 'wish', 'friend', 'support', 'enemi', 'hater', 'even', 'dishonest', 'fake', 'new', 'media', 'happi', 'healthi', 'new', 'year', 'presid', 'angri', 'pant', 'tweet', '2018', 'great', 'year', 'america', 'countri', 'rapidli', 'grow', 'stronger', 'smarter', 'want', 'wish', 'friend', 'support', 'enemi', 'hater', 'even', 'dishonest', 'fake', 'new', 'media', 'happi', 'healthi', 'new', 'year', '2018', 'great', 'year', 'america', 'donald', 'J', 'trump', 'realdonaldtrump', 'decemb', '31', '2017trump', 'tweet', 'went', 'welll', 'expectwhat', 'kind', 'presid', 'send', 'new', 'year', 'greet', 'like', 'despic', 'petti', 'infantil', 'gibberish', 'trump', 'lack', 'decenc', 'even', 'allow', 'rise', 'gutter', 'long', 'enough', 'wish', 'american', 'citizen', 'happi', 'new', 'year', 'bishop', 'talbert', 'swan', 'talbertswan', 'decemb', '31', '2017no', 'one', 'like', 'calvin', 'calvinstowel', 'decemb', '31', '2017your', 'impeach', 'would', 'make', '2018', 'great', 'year', 'america', 'also', 'accept', 'regain', 'control', 'congress', 'miranda', 'yaver', 'mirandayav', 'decemb', '31', '2017do', 'hear', 'talk', 'includ', 'mani', 'peopl', 'hate', 'wonder', 'hate', 'alan', 'sandov', 'alansandoval13', 'decemb', '31', '2017who', 'use', 'word', 'hater', 'new', 'year', 'wish', 'marlen', 'marlene399', 'decemb', '31', '2017you', 'say', 'happi', 'new', 'year', 'koren', 'pollitt', 'korencarpent', 'decemb', '31', '2017here', 'trump', 'new', 'year', 'eve', 'tweet', '2016happi', 'new', 'year', 'includ', 'mani', 'enemi', 'fought', 'lost', 'badli', 'know', 'love', 'donald', 'J', 'trump', 'realdonaldtrump', 'decemb', '31', '2016thi', 'noth', 'new', 'trump', 'yearstrump', 'direct', 'messag', 'enemi', 'hater', 'new', 'year', 'easter', 'thanksgiv', 'anniversari', '911', 'pictwittercom4fpae2kypa', 'daniel', 'dale', 'ddale8', 'decemb', '31', '2017trump', 'holiday', 'tweet', 'clearli', 'presidentialhow', 'long', 'work', 'hallmark', 'becom', 'presid', 'steven', 'goodin', 'sgoodin', 'decemb', '31', '2017he', 'alway', 'like', 'differ', 'last', 'year', 'filter', 'break', 'roy', 'schulz', 'thbthttt', 'decemb', '31', '2017who', 'apart', 'teenag', 'use', 'term', 'hater', 'wendi', 'wendywhistl', 'decemb', '31', '2017he', 'fuck', '5', 'year', 'old', 'know', 'rainyday80', 'decemb', '31', '2017so', 'peopl', 'vote', 'hole', 'think', 'would', 'chang', 'got', 'power', 'wrong', '70yearold', 'men', 'chang', 'year', 'olderphoto', 'andrew', 'burtongetti', 'imag']\n"
     ]
    }
   ],
   "source": [
    "print(df_clean[0]) # show the cleaned up version"
   ]
  },
  {
   "cell_type": "code",
   "execution_count": 36,
   "metadata": {},
   "outputs": [
    {
     "name": "stdout",
     "output_type": "stream",
     "text": [
      "Donald Trump just couldn t wish all Americans a Happy New Year and leave it at that. Instead, he had to give a shout out to his enemies, haters and  the very dishonest fake news media.  The former reality show star had just one job to do and he couldn t do it. As our Country rapidly grows stronger and smarter, I want to wish all of my friends, supporters, enemies, haters, and even the very dishonest Fake News Media, a Happy and Healthy New Year,  President Angry Pants tweeted.  2018 will be a great year for America! As our Country rapidly grows stronger and smarter, I want to wish all of my friends, supporters, enemies, haters, and even the very dishonest Fake News Media, a Happy and Healthy New Year. 2018 will be a great year for America!  Donald J. Trump (@realDonaldTrump) December 31, 2017Trump s tweet went down about as welll as you d expect.What kind of president sends a New Year s greeting like this despicable, petty, infantile gibberish? Only Trump! His lack of decency won t even allow him to rise above the gutter long enough to wish the American citizens a happy new year!  Bishop Talbert Swan (@TalbertSwan) December 31, 2017no one likes you  Calvin (@calvinstowell) December 31, 2017Your impeachment would make 2018 a great year for America, but I ll also accept regaining control of Congress.  Miranda Yaver (@mirandayaver) December 31, 2017Do you hear yourself talk? When you have to include that many people that hate you you have to wonder? Why do the they all hate me?  Alan Sandoval (@AlanSandoval13) December 31, 2017Who uses the word Haters in a New Years wish??  Marlene (@marlene399) December 31, 2017You can t just say happy new year?  Koren pollitt (@Korencarpenter) December 31, 2017Here s Trump s New Year s Eve tweet from 2016.Happy New Year to all, including to my many enemies and those who have fought me and lost so badly they just don t know what to do. Love!  Donald J. Trump (@realDonaldTrump) December 31, 2016This is nothing new for Trump. He s been doing this for years.Trump has directed messages to his  enemies  and  haters  for New Year s, Easter, Thanksgiving, and the anniversary of 9/11. pic.twitter.com/4FPAe2KypA  Daniel Dale (@ddale8) December 31, 2017Trump s holiday tweets are clearly not presidential.How long did he work at Hallmark before becoming President?  Steven Goodine (@SGoodine) December 31, 2017He s always been like this . . . the only difference is that in the last few years, his filter has been breaking down.  Roy Schulze (@thbthttt) December 31, 2017Who, apart from a teenager uses the term haters?  Wendy (@WendyWhistles) December 31, 2017he s a fucking 5 year old  Who Knows (@rainyday80) December 31, 2017So, to all the people who voted for this a hole thinking he would change once he got into power, you were wrong! 70-year-old men don t change and now he s a year older.Photo by Andrew Burton/Getty Images.\n"
     ]
    }
   ],
   "source": [
    "print(df['text'][0]) "
   ]
  },
  {
   "cell_type": "markdown",
   "metadata": {},
   "source": [
    "### Use countvectorizer to build the matrix of the words, limiting it to the most 3000 used words"
   ]
  },
  {
   "cell_type": "code",
   "execution_count": 37,
   "metadata": {},
   "outputs": [],
   "source": [
    "from sklearn.feature_extraction.text import CountVectorizer\n",
    "# Define the cleaning pipeline we defined earlier\n",
    "vectorizer = CountVectorizer(analyzer = message_cleaning, max_features = 3000)\n",
    "fake_countvectorizer = vectorizer.fit_transform(df['text'])"
   ]
  },
  {
   "cell_type": "code",
   "execution_count": 38,
   "metadata": {},
   "outputs": [
    {
     "name": "stdout",
     "output_type": "stream",
     "text": [
      "['1', '10', '100', '1000', '10000', '100000', '11', '12', '13', '14', '15', '16', '17', '18', '19', '1980', '1990', '2', '20', '200', '2000', '2001', '2003', '2004', '2005', '2006', '2007', '2008', '2009', '2010', '2011', '2012', '2013', '2014', '2015', '2016', '2017', '2017realdonaldtrump', '2017the', '2018', '2019', '2020', '21', '21st', '21wire', '21wiretv', '22', '23', '24', '25', '26', '27', '28', '29', '3', '30', '300', '31', '32', '35', '36', '38', '4', '40', '44', '45', '48', '5', '50', '500', '6', '60', '7', '70', '8', '80', '9', '90', '911', 'Al', 'Co', 'DC', 'Dr', 'EU', 'El', 'J', 'Jr', 'Mr', 'Ms', 'Oh', 'PM', 'R', 'RT', 'St', 'TV', 'UK', 'UN', 'US', 'Un', 'W', 'Xi', 'abandon', 'abc', 'abe', 'abedin', 'abil', 'abl', 'abort', 'abroad', 'absolut', 'abus', 'academ', 'accept', 'access', 'accompani', 'accomplish', 'accord', 'account', 'accur', 'accus', 'achiev', 'acknowledg', 'acr', 'across', 'act', 'action', 'activ', 'activist', 'actor', 'actual', 'ad', 'adam', 'add', 'addit', 'address', 'adjust', 'administr', 'administration’', 'admir', 'admiss', 'admit', 'adopt', 'adult', 'advanc', 'advantag', 'advertis', 'advic', 'advis', 'advisor', 'advoc', 'advocaci', 'afd', 'affair', 'affect', 'affili', 'afford', 'afghan', 'afghanistan', 'afraid', 'africa', 'african', 'africanamerican', 'afternoon', 'age', 'agenc', 'agenda', 'agent', 'aggress', 'ago', 'agre', 'agreement', 'agricultur', 'ahead', 'aid', 'aim', 'air', 'aircraft', 'airlin', 'airport', 'al', 'alabama', 'alarm', 'alassad', 'alert', 'alex', 'ali', 'alien', 'aliv', 'alleg', 'allegedli', 'alli', 'allianc', 'allow', 'almost', 'alon', 'along', 'alongsid', 'alreadi', 'also', 'altern', 'although', 'alway', 'amaz', 'ambassador', 'amend', 'america', 'american', 'america’', 'amid', 'amnesti', 'among', 'amount', 'analysi', 'analyst', 'anderson', 'andrew', 'angel', 'angela', 'anger', 'angri', 'anim', 'ankara', 'ann', 'announc', 'annual', 'anonym', 'anoth', 'answer', 'anthem', 'anthoni', 'antifa', 'antisemit', 'antitrump', 'anybodi', 'anymor', 'anyon', 'anyth', 'anyway', 'anywher', 'apart', 'apolog', 'appar', 'appeal', 'appear', 'appl', 'appli', 'applic', 'appoint', 'appreci', 'approach', 'appropri', 'approv', 'april', 'arab', 'arabia', 'area', 'argu', 'argument', 'arizona', 'arm', 'armi', 'around', 'arrang', 'arrest', 'arriv', 'art', 'articl', 'artist', 'asia', 'asian', 'asid', 'ask', 'aspect', 'ass', 'assad', 'assang', 'assassin', 'assault', 'assembl', 'assert', 'assess', 'asset', 'assign', 'assist', 'associ', 'assum', 'assur', 'asylum', 'atlant', 'attack', 'attempt', 'attend', 'attent', 'attitud', 'attorney', 'attract', 'audienc', 'audit', 'aug', 'august', 'australia', 'australian', 'author', 'avail', 'averag', 'avoid', 'awar', 'award', 'away', 'babi', 'back', 'backer', 'background', 'backlash', 'bad', 'badli', 'baghdad', 'balanc', 'ball', 'ballist', 'ballot', 'baltimor', 'ban', 'band', 'bangladesh', 'bank', 'banker', 'bannon', 'bar', 'barack', 'bare', 'barrier', 'base', 'bashar', 'basi', 'basic', 'bathroom', 'battl', 'bay', 'beach', 'bear', 'beat', 'beauti', 'becam', 'becom', 'bed', 'beg', 'began', 'begin', 'begun', 'behalf', 'behavior', 'behind', 'beij', 'beirut', 'belief', 'believ', 'belong', 'belowfeatur', 'ben', 'benefit', 'benghazi', 'berlin', 'berni', 'besid', 'best', 'bet', 'better', 'beyond', 'bia', 'bid', 'biden', 'big', 'bigger', 'biggest', 'bigot', 'bigotri', 'bilater', 'bill', 'billion', 'billionair', 'bin', 'bipartisan', 'birth', 'bit', 'bizarr', 'black', 'blame', 'blast', 'bloc', 'block', 'blog', 'blood', 'bloomberg', 'blow', 'blue', 'board', 'boat', 'bob', 'bodi', 'boiler', 'bomb', 'bomber', 'bond', 'book', 'boost', 'border', 'born', 'boss', 'boston', 'bottom', 'bought', 'box', 'boy', 'boycott', 'brag', 'brain', 'branch', 'brand', 'brave', 'brazil', 'breach', 'break', 'breitbart', 'brexit', 'brian', 'bridg', 'brief', 'brilliant', 'bring', 'britain', 'british', 'broad', 'broadcast', 'broader', 'broke', 'broken', 'brother', 'brought', 'brown', 'brussel', 'brutal', 'bu', 'budget', 'build', 'built', 'bullet', 'bulli', 'bunch', 'bundi', 'burden', 'bureau', 'burn', 'bush', 'busi', 'businessman', 'buy', 'cabinet', 'cabl', 'california', 'call', 'caller', 'calm', 'cambodia', 'came', 'camera', 'camp', 'campaign', 'campu', 'canada', 'canadian', 'cancel', 'cancer', 'candid', 'candidaci', 'cannot', 'can’t', 'cap', 'capabl', 'capac', 'capit', 'capitol', 'captur', 'car', 'carbon', 'card', 'care', 'career', 'carolina', 'carri', 'carrier', 'carson', 'carter', 'case', 'cash', 'cast', 'castro', 'casualti', 'catalan', 'catalonia', 'catch', 'cathol', 'caucu', 'caught', 'caus', 'cb', 'ceasefir', 'celebr', 'cell', 'center', 'central', 'centuri', 'ceo', 'ceremoni', 'certain', 'certainli', 'chain', 'chair', 'chairman', 'challeng', 'chamber', 'champion', 'chanc', 'chancellor', 'chang', 'channel', 'chant', 'chao', 'charact', 'charg', 'chariti', 'charl', 'charlottesvil', 'check', 'cheer', 'chemic', 'chicago', 'chief', 'child', 'children', 'china', 'china’', 'chines', 'chip', 'choic', 'choos', 'chose', 'chosen', 'chri', 'christi', 'christian', 'christma', 'christoph', 'chuck', 'church', 'cia', 'circl', 'circuit', 'circumst', 'cite', 'citi', 'citizen', 'citizenship', 'civil', 'civilian', 'claim', 'clarifi', 'clash', 'class', 'classifi', 'clean', 'clear', 'clearli', 'cleveland', 'click', 'client', 'climat', 'clinic', 'clinton', 'clinton’', 'clip', 'close', 'closer', 'cloth', 'club', 'cnn', 'coal', 'coalit', 'coast', 'code', 'cold', 'collaps', 'colleagu', 'collect', 'colleg', 'collin', 'collud', 'collus', 'color', 'colorado', 'combat', 'combin', 'come', 'comedian', 'comey', 'comfort', 'command', 'comment', 'commerc', 'commerci', 'commiss', 'commission', 'commit', 'committe', 'common', 'commun', 'communist', 'compani', 'compar', 'compet', 'competit', 'complain', 'complaint', 'complet', 'complex', 'compli', 'complic', 'comprehens', 'compromis', 'comput', 'concern', 'concert', 'conclud', 'conclus', 'condemn', 'condit', 'conduct', 'confeder', 'confer', 'confid', 'confirm', 'conflict', 'confront', 'confus', 'congress', 'congression', 'congressman', 'connect', 'consensu', 'consequ', 'conserv', 'consid', 'consider', 'consist', 'conspiraci', 'constitu', 'constitut', 'construct', 'consult', 'consum', 'contact', 'contain', 'contend', 'content', 'contest', 'context', 'continu', 'contract', 'contractor', 'contrast', 'contribut', 'control', 'controversi', 'convent', 'convers', 'convict', 'convinc', 'conway', 'cooper', 'coordin', 'cop', 'copi', 'core', 'corker', 'corner', 'corp', 'corpor', 'correct', 'correspond', 'corrupt', 'cost', 'could', 'council', 'counsel', 'count', 'counter', 'counterpart', 'counti', 'countri', 'country’', 'coup', 'coupl', 'cours', 'court', 'cover', 'coverag', 'crack', 'crackdown', 'crash', 'crazi', 'creat', 'creation', 'credibl', 'credit', 'crew', 'cri', 'crime', 'crimin', 'crisi', 'critic', 'crook', 'cross', 'crowd', 'crucial', 'cruz', 'cuba', 'cuban', 'cultur', 'cuomo', 'curb', 'currenc', 'current', 'custodi', 'custom', 'cut', 'cyber', 'cycl', 'daca', 'daili', 'dakota', 'dalla', 'damag', 'damn', 'dan', 'danger', 'daniel', 'dare', 'dark', 'data', 'date', 'daughter', 'davi', 'david', 'day', 'de', 'dead', 'deadli', 'deadlin', 'deal', 'death', 'debat', 'debt', 'dec', 'decad', 'decemb', 'decid', 'decis', 'declar', 'declin', 'dedic', 'deduct', 'deem', 'deep', 'deepli', 'defeat', 'defenc', 'defend', 'defens', 'deficit', 'defin', 'definit', 'degre', 'delay', 'deleg', 'delet', 'deliber', 'deliv', 'demand', 'democraci', 'democrat', 'demonstr', 'deni', 'denounc', 'depart', 'departur', 'depend', 'deploy', 'deport', 'deputi', 'describ', 'deserv', 'design', 'desir', 'desper', 'despit', 'destroy', 'destruct', 'detail', 'detain', 'detaine', 'detect', 'detent', 'determin', 'detroit', 'devast', 'develop', 'devic', 'dh', 'dialogu', 'dictat', 'die', 'differ', 'difficult', 'digit', 'dinner', 'diplomaci', 'diplomat', 'direct', 'directli', 'director', 'dirti', 'disabl', 'disagre', 'disappear', 'disappoint', 'disast', 'disclos', 'disclosur', 'discov', 'discredit', 'discrimin', 'discuss', 'diseas', 'disgrac', 'disgust', 'dismantl', 'dismiss', 'displac', 'display', 'disput', 'disrespect', 'disrupt', 'dissent', 'distanc', 'distract', 'distribut', 'district', 'disturb', 'divers', 'divid', 'divis', 'divorc', 'dnc', 'doctor', 'document', 'doesn’t', 'dog', 'doj', 'dollar', 'domest', 'domin', 'donald', 'donat', 'done', 'donor', 'don’t', 'door', 'dossier', 'doubl', 'doubt', 'dozen', 'draft', 'drag', 'dramat', 'draw', 'drawn', 'dream', 'dress', 'drew', 'drill', 'drink', 'drive', 'driven', 'driver', 'drone', 'drop', 'drove', 'drug', 'due', 'duke', 'dump', 'dutert', 'duti', 'earli', 'earlier', 'earn', 'earnest', 'earth', 'eas', 'easi', 'easier', 'easili', 'east', 'eastern', 'eat', 'echo', 'econom', 'economi', 'economist', 'edit', 'editor', 'editori', 'educ', 'edward', 'effect', 'effort', 'egypt', 'egyptian', 'eight', 'either', 'elect', 'elector', 'electr', 'electron', 'element', 'elig', 'elimin', 'elit', 'elizabeth', 'els', 'elsewher', 'email', 'embarrass', 'embassi', 'embrac', 'emerg', 'emiss', 'emmanuel', 'emot', 'emphas', 'employ', 'employe', 'empti', 'enabl', 'enact', 'encount', 'encourag', 'end', 'endors', 'enemi', 'energi', 'enforc', 'engag', 'engin', 'english', 'enjoy', 'enough', 'ensur', 'enter', 'entertain', 'entir', 'entiti', 'entitl', 'entri', 'environ', 'environment', 'epa', 'episod', 'equal', 'equip', 'era', 'erdogan', 'eric', 'error', 'erupt', 'escal', 'escap', 'especi', 'essenti', 'est', 'establish', 'estat', 'estim', 'ethic', 'ethnic', 'euro', 'europ', 'european', 'evacu', 'even', 'event', 'eventu', 'ever', 'everi', 'everybodi', 'everyon', 'everyth', 'everywher', 'evid', 'evil', 'exact', 'exactli', 'examin', 'exampl', 'except', 'exchang', 'exclus', 'excus', 'execut', 'exempt', 'exercis', 'exist', 'exit', 'expand', 'expans', 'expect', 'expens', 'experi', 'experienc', 'expert', 'expir', 'explain', 'explan', 'exploit', 'explor', 'explos', 'export', 'expos', 'express', 'extend', 'extens', 'extent', 'extra', 'extrem', 'extremist', 'eye', 'face', 'facebook', 'facil', 'fact', 'faction', 'factor', 'factori', 'fail', 'failur', 'fair', 'faith', 'fake', 'fall', 'fallen', 'fals', 'famili', 'familiar', 'famou', 'fan', 'far', 'farm', 'farmer', 'farright', 'fast', 'father', 'favor', 'favorit', 'fbi', 'fdp', 'fear', 'featur', 'feb', 'februari', 'fed', 'feder', 'fee', 'feed', 'feel', 'feet', 'fell', 'fellow', 'feloni', 'felt', 'femal', 'fenc', 'ferguson', 'fewer', 'field', 'fierc', 'fifth', 'fight', 'fighter', 'figur', 'file', 'filessupport', 'fill', 'film', 'final', 'financ', 'financi', 'find', 'fine', 'finish', 'fire', 'firearm', 'firm', 'first', 'fiscal', 'fit', 'five', 'fix', 'flag', 'fled', 'flee', 'fli', 'flickr', 'flight', 'flint', 'flood', 'floor', 'florida', 'flow', 'flynn', 'focu', 'focus', 'folk', 'follow', 'food', 'foot', 'footag', 'footbal', 'forc', 'ford', 'foreign', 'forget', 'form', 'formal', 'former', 'fortun', 'forum', 'forward', 'foster', 'fought', 'found', 'foundat', 'founder', 'four', 'fourth', 'fox', 'franc', 'franci', 'francisco', 'frank', 'fraud', 'free', 'freedom', 'french', 'frequent', 'fresh', 'friday', 'friend', 'front', 'frontrunn', 'frustrat', 'fuck', 'fuel', 'fulfil', 'full', 'fulli', 'fun', 'function', 'fund', 'fundament', 'fundrais', 'funni', 'futur', 'ga', 'gain', 'game', 'gang', 'gap', 'gari', 'garland', 'gate', 'gateway', 'gather', 'gave', 'gay', 'gaza', 'gender', 'gener', 'geneva', 'georg', 'georgia', 'german', 'germani', 'get', 'getti', 'giant', 'gift', 'girl', 'giuliani', 'give', 'given', 'global', 'go', 'goal', 'god', 'goe', 'gold', 'goldman', 'golf', 'gone', 'gonna', 'good', 'googl', 'gop', 'gorsuch', 'got', 'gotten', 'gov', 'govern', 'governor', 'grab', 'graduat', 'graham', 'grand', 'grant', 'graphic', 'grassley', 'grave', 'great', 'greater', 'greatest', 'green', 'grew', 'gross', 'ground', 'group', 'grow', 'grown', 'growth', 'guarante', 'guard', 'guardian', 'guess', 'guest', 'guilti', 'gulf', 'gun', 'guy', 'hack', 'hacker', 'haley', 'half', 'hall', 'halt', 'hama', 'hampshir', 'hand', 'handl', 'hang', 'hanniti', 'happen', 'happi', 'harass', 'hard', 'harder', 'hardlin', 'hariri', 'harm', 'harri', 'harvard', 'harvey', 'hat', 'hatch', 'hate', 'hatr', 'hawaii', 'head', 'headlin', 'headquart', 'health', 'healthcar', 'hear', 'heard', 'heart', 'heat', 'heavi', 'heavili', 'hedg', 'held', 'helicopt', 'hell', 'help', 'heritag', 'hero', 'hezbollah', 'he’', 'hide', 'high', 'higher', 'highest', 'highli', 'highlight', 'highprofil', 'hilari', 'hill', 'hillari', 'hire', 'hispan', 'histor', 'histori', 'hit', 'hitler', 'hold', 'holder', 'hole', 'holiday', 'hollywood', 'home', 'homeland', 'honest', 'hong', 'honor', 'hope', 'horribl', 'horrif', 'hospit', 'host', 'hostag', 'hostil', 'hot', 'hotel', 'hour', 'hous', 'houston', 'houthi', 'howev', 'huge', 'human', 'humanitarian', 'humili', 'hundr', 'hunt', 'hurrican', 'hurt', 'husband', 'hypocrit', 'ice', 'idea', 'ident', 'identifi', 'ideolog', 'idiot', 'ignor', 'ill', 'illeg', 'illinoi', 'imag', 'imagin', 'immedi', 'immigr', 'impact', 'impeach', 'implement', 'implic', 'import', 'impos', 'imposs', 'impress', 'improv', 'inappropri', 'inaugur', 'inc', 'incid', 'incit', 'includ', 'inclus', 'incom', 'increas', 'increasingli', 'incred', 'inde', 'independ', 'india', 'indian', 'indiana', 'indic', 'indict', 'individu', 'indonesia', 'industri', 'inflat', 'influenc', 'influenti', 'inform', 'infrastructur', 'initi', 'injur', 'injuri', 'innoc', 'inquiri', 'insan', 'insid', 'insist', 'inspector', 'inspir', 'instal', 'instanc', 'instead', 'institut', 'instruct', 'insult', 'insur', 'insurg', 'integr', 'intellig', 'intend', 'intens', 'intent', 'interest', 'interf', 'interfer', 'interior', 'intern', 'internet', 'interpret', 'interven', 'intervent', 'interview', 'intimid', 'introduc', 'invas', 'invest', 'investig', 'investor', 'invit', 'involv', 'iowa', 'ir', 'iran', 'iranian', 'iraq', 'iraqi', 'ireland', 'irish', 'irma', 'iron', 'isi', 'islam', 'islamist', 'island', 'isol', 'isra', 'israel', 'issu', 'itali', 'italian', 'ite', 'item', 'it’', 'it”', 'ivanka', 'i’m', 'jack', 'jackson', 'jail', 'jame', 'jan', 'januari', 'japan', 'japanes', 'jare', 'jason', 'jay', 'jeb', 'jeff', 'jersey', 'jerusalem', 'jesu', 'jet', 'jew', 'jewish', 'jihadist', 'jim', 'jinp', 'job', 'joe', 'john', 'johnson', 'join', 'joint', 'joke', 'jone', 'jong', 'jordan', 'joseph', 'josh', 'journal', 'journalist', 'juan', 'judg', 'judgment', 'judici', 'judiciari', 'juli', 'jump', 'june', 'juri', 'justic', 'justifi', 'justin', 'kansa', 'kasich', 'keep', 'kelli', 'kellyann', 'kennedi', 'kentucki', 'kept', 'kerri', 'kevin', 'key', 'khan', 'kick', 'kid', 'kill', 'kim', 'kind', 'king', 'kingdom', 'kirkuk', 'kiss', 'km', 'knew', 'knock', 'know', 'knowledg', 'known', 'kong', 'korea', 'korean', 'kremlin', 'kurd', 'kurdish', 'kurdistan', 'kushner', 'kyi', 'la', 'label', 'labor', 'labour', 'lack', 'ladi', 'laid', 'land', 'languag', 'larg', 'larger', 'largest', 'last', 'late', 'later', 'latest', 'latin', 'latino', 'laugh', 'launch', 'lavrov', 'law', 'lawmak', 'lawsuit', 'lawyer', 'lay', 'lead', 'leader', 'leadership', 'leagu', 'leak', 'learn', 'least', 'leav', 'lebanes', 'lebanon', 'led', 'lee', 'left', 'leftist', 'legaci', 'legal', 'legisl', 'legislatur', 'legitim', 'less', 'lesson', 'let', 'letter', 'level', 'lewi', 'lgbt', 'liar', 'liber', 'liberti', 'libya', 'licens', 'lie', 'life', 'lift', 'light', 'like', 'limit', 'lindsey', 'line', 'link', 'list', 'listen', 'liter', 'littl', 'live', 'lo', 'loan', 'lobbi', 'lobbyist', 'local', 'locat', 'lock', 'london', 'long', 'longer', 'longstand', 'longterm', 'longtim', 'look', 'lose', 'loss', 'lost', 'lot', 'loui', 'louisiana', 'love', 'low', 'lower', 'lynch', 'machin', 'macron', 'made', 'madrid', 'maduro', 'magazin', 'mail', 'main', 'mainli', 'mainstream', 'maintain', 'major', 'make', 'male', 'man', 'manafort', 'manag', 'mandat', 'manhattan', 'mani', 'manipul', 'manner', 'manufactur', 'march', 'marco', 'margin', 'maria', 'marijuana', 'marin', 'mark', 'market', 'marri', 'marriag', 'martin', 'maryland', 'mass', 'massachusett', 'massacr', 'massiv', 'match', 'mate', 'mateen', 'materi', 'matt', 'matter', 'matthew', 'matti', 'may', 'mayb', 'mayor', 'mccabe', 'mccain', 'mcconnel', 'mean', 'meant', 'meanwhil', 'measur', 'meddl', 'media', 'medic', 'medicaid', 'meet', 'megyn', 'melania', 'member', 'membership', 'memo', 'memori', 'men', 'mental', 'mention', 'mere', 'merkel', 'mess', 'messag', 'met', 'method', 'mexican', 'mexico', 'miami', 'michael', 'michel', 'michigan', 'middl', 'might', 'migrant', 'migrat', 'mike', 'mile', 'milit', 'militari', 'militia', 'miller', 'million', 'mind', 'mine', 'minimum', 'minist', 'ministri', 'minnesota', 'minor', 'minut', 'misconduct', 'miss', 'missil', 'mission', 'missouri', 'mistak', 'mitch', 'mitt', 'mix', 'mnuchin', 'mobil', 'mock', 'model', 'moder', 'modern', 'mogul', 'moham', 'moment', 'monday', 'money', 'monitor', 'month', 'monument', 'moor', 'moral', 'morn', 'moscow', 'mosqu', 'mostli', 'mother', 'motion', 'motiv', 'mount', 'mouth', 'move', 'movement', 'movi', 'mr', 'msnbc', 'much', 'mueller', 'mugab', 'multipl', 'murder', 'music', 'muslim', 'muslimmajor', 'must', 'mutual', 'myanmar', 'nafta', 'name', 'nanci', 'narr', 'narrow', 'nation', 'nationalist', 'nationwid', 'nativ', 'nato', 'natur', 'navi', 'nazi', 'nbc', 'near', 'nearbi', 'nearli', 'necessari', 'need', 'neg', 'negoti', 'neighbor', 'neighborhood', 'neither', 'net', 'netanyahu', 'network', 'neutral', 'nevada', 'never', 'new', 'newli', 'news', 'newspap', 'next', 'nfl', 'nice', 'nieto', 'night', 'nine', 'nobodi', 'nomin', 'nomine', 'none', 'nonprofit', 'normal', 'north', 'northern', 'note', 'noth', 'notic', 'nov', 'novemb', 'nra', 'nsa', 'nuclear', 'number', 'numer', 'nune', 'oath', 'obama', 'obamacar', 'obama’', 'object', 'oblig', 'observ', 'obstruct', 'obtain', 'obviou', 'obvious', 'occas', 'occupi', 'occur', 'oct', 'octob', 'odd', 'offend', 'offens', 'offer', 'offic', 'offici', 'often', 'ohio', 'oil', 'okay', 'oklahoma', 'old', 'one', 'ongo', 'onlin', 'onto', 'open', 'openli', 'oper', 'opinion', 'oppon', 'opportun', 'oppos', 'opposit', 'oppress', 'option', 'order', 'oregon', 'organ', 'origin', 'orlando', 'other', 'otherwis', 'oust', 'outcom', 'outlet', 'outlin', 'outrag', 'outsid', 'oval', 'overal', 'overhaul', 'overse', 'oversea', 'oversight', 'overturn', 'overwhelm', 'owe', 'own', 'owner', 'pac', 'pacif', 'pack', 'packag', 'pact', 'page', 'paid', 'pain', 'paint', 'pakistan', 'palestinian', 'palin', 'panel', 'paper', 'paragraph', 'parent', 'parenthood', 'pari', 'park', 'parliament', 'parliamentari', 'part', 'parti', 'partial', 'particip', 'particular', 'particularli', 'partisan', 'partner', 'partnership', 'party’', 'pass', 'passag', 'passeng', 'past', 'pastor', 'path', 'pathet', 'patient', 'patrick', 'patriot', 'patrol', 'paul', 'pay', 'payment', 'peac', 'pelosi', 'pena', 'penalti', 'penc', 'pend', 'peninsula', 'pennsylvania', 'pension', 'pentagon', 'peopl', 'per', 'percent', 'percentag', 'perfect', 'perfectli', 'perform', 'perhap', 'period', 'perman', 'permiss', 'permit', 'persecut', 'person', 'personnel', 'peter', 'petit', 'phase', 'philadelphia', 'philippin', 'phone', 'photo', 'photograph', 'physic', 'pick', 'pictur', 'piec', 'pipelin', 'place', 'plan', 'plane', 'plant', 'platform', 'play', 'player', 'plea', 'plead', 'pleas', 'pledg', 'plot', 'pm', 'pocket', 'podesta', 'point', 'poison', 'poland', 'polic', 'polici', 'polit', 'politician', 'politico', 'poll', 'poor', 'pope', 'popul', 'popular', 'port', 'portion', 'portray', 'pose', 'posit', 'possess', 'possibl', 'post', 'potenti', 'potu', 'poverti', 'power', 'practic', 'prais', 'pray', 'prayer', 'preced', 'predecessor', 'predict', 'prefer', 'premium', 'prepar', 'presenc', 'present', 'preserv', 'presid', 'presidentelect', 'presidenti', 'president’', 'press', 'pressur', 'presumpt', 'pretend', 'pretti', 'prevent', 'previou', 'previous', 'price', 'priebu', 'primari', 'prime', 'princ', 'principl', 'prior', 'prioriti', 'prison', 'privaci', 'privat', 'privileg', 'probabl', 'probe', 'problem', 'procedur', 'proceed', 'process', 'produc', 'product', 'profession', 'professor', 'profil', 'profit', 'program', 'progress', 'prohibit', 'project', 'promin', 'promis', 'promot', 'prompt', 'proof', 'propaganda', 'proper', 'properti', 'propos', 'prosecut', 'prosecutor', 'prospect', 'protect', 'protest', 'proud', 'prove', 'proven', 'provid', 'provinc', 'provis', 'provoc', 'pruitt', 'public', 'publicli', 'publish', 'puerto', 'puigdemont', 'pull', 'punch', 'pundit', 'punish', 'purchas', 'purpos', 'pursu', 'push', 'put', 'putin', 'pyongyang', 'qaeda', 'qatar', 'qualifi', 'qualiti', 'quarter', 'question', 'quick', 'quickli', 'quit', 'quot', 'race', 'racial', 'racism', 'racist', 'radic', 'radio', 'raid', 'rail', 'rais', 'rakhin', 'ralli', 'ran', 'rang', 'rank', 'rant', 'rape', 'rapist', 'raqqa', 'rare', 'rate', 'rather', 'reach', 'react', 'reaction', 'read', 'readi', 'reagan', 'real', 'realdonaldtrump', 'realiti', 'realiz', 'realli', 'reason', 'rebel', 'rebuild', 'recal', 'receiv', 'recent', 'recess', 'recipi', 'recogn', 'recommend', 'record', 'recount', 'recov', 'recruit', 'red', 'reduc', 'reelect', 'refer', 'referendum', 'reflect', 'reform', 'refuge', 'refus', 'regard', 'regardless', 'regim', 'region', 'regist', 'registr', 'regret', 'regul', 'regular', 'regularli', 'regulatori', 'reid', 'reilli', 'reiter', 'reject', 'rel', 'relat', 'relationship', 'releas', 'relev', 'reli', 'relief', 'religi', 'religion', 'remain', 'remark', 'rememb', 'remind', 'remov', 'renew', 'rep', 'repeal', 'repeat', 'repeatedli', 'replac', 'repli', 'report', 'reportedli', 'repres', 'republ', 'republican', 'reput', 'request', 'requir', 'rescu', 'research', 'reserv', 'resettl', 'resid', 'resign', 'resist', 'resolut', 'resolv', 'resort', 'resourc', 'respect', 'respond', 'respons', 'rest', 'restaur', 'restor', 'restrict', 'result', 'resum', 'retail', 'retain', 'retali', 'retir', 'return', 'retweet', 'reuter', 'reutersipso', 'reveal', 'revel', 'revenu', 'revers', 'review', 'revis', 'reviv', 'revolut', 'revolutionari', 'rex', 'rhetor', 'rice', 'rich', 'richard', 'rick', 'rico', 'rid', 'ridicul', 'rifl', 'rig', 'right', 'rightw', 'riot', 'rip', 'rise', 'risk', 'rival', 'river', 'riyadh', 'rnc', 'road', 'rob', 'robert', 'rock', 'rocket', 'roger', 'rohingya', 'role', 'roll', 'romney', 'ron', 'ronald', 'room', 'root', 'rose', 'ross', 'roughli', 'round', 'rout', 'routin', 'row', 'roy', 'royal', 'rubio', 'rule', 'run', 'rural', 'rush', 'russia', 'russian', 'russia’', 'ryan', 'sach', 'sad', 'safe', 'safeti', 'said', 'salari', 'sale', 'samesex', 'san', 'sanction', 'sanctuari', 'sander', 'sap', 'sarah', 'sat', 'saturday', 'saudi', 'save', 'saw', 'say', 'scale', 'scalia', 'scandal', 'scare', 'scenario', 'scene', 'schedul', 'scheme', 'school', 'schumer', 'scienc', 'scientist', 'score', 'scott', 'scrap', 'scream', 'screen', 'screenshot', 'scrutini', 'sea', 'seal', 'sean', 'search', 'season', 'seat', 'second', 'secret', 'secretari', 'section', 'sector', 'secur', 'see', 'seek', 'seeker', 'seem', 'seen', 'segment', 'seiz', 'select', 'sell', 'sen', 'senat', 'send', 'senior', 'sens', 'sensit', 'sent', 'sentenc', 'sentiment', 'seoul', 'separ', 'separatist', 'sept', 'septemb', 'seri', 'seriou', 'serious', 'serv', 'server', 'servic', 'session', 'set', 'seth', 'settl', 'settlement', 'seven', 'sever', 'sex', 'sexual', 'shake', 'shame', 'shape', 'share', 'sharp', 'shelter', 'sheriff', 'shi', 'shield', 'shift', 'ship', 'shock', 'shoot', 'shooter', 'shop', 'short', 'shortli', 'shot', 'shout', 'show', 'shown', 'shut', 'sick', 'side', 'sign', 'signal', 'signatur', 'signific', 'silenc', 'silent', 'similar', 'simpl', 'simpli', 'sinc', 'singl', 'sister', 'sit', 'site', 'situat', 'six', 'size', 'skeptic', 'skill', 'slam', 'slash', 'slave', 'slow', 'small', 'smaller', 'smart', 'smile', 'smith', 'smoke', 'snap', 'snyder', 'socal', 'social', 'socialist', 'societi', 'sold', 'soldier', 'sole', 'solut', 'solv', 'somalia', 'somebodi', 'somehow', 'someon', 'someth', 'sometim', 'son', 'song', 'soon', 'soro', 'sorri', 'sort', 'sought', 'sound', 'sourc', 'south', 'southeast', 'southern', 'sovereignti', 'soviet', 'space', 'spain', 'spanish', 'spark', 'spd', 'speak', 'speaker', 'special', 'specif', 'specul', 'speech', 'speed', 'spend', 'spent', 'spi', 'spicer', 'spirit', 'split', 'spoke', 'spoken', 'spokesman', 'spokesperson', 'spokeswoman', 'sponsor', 'sport', 'spot', 'spread', 'spring', 'squar', 'stabil', 'staff', 'staffer', 'stage', 'stake', 'stamp', 'stanc', 'stand', 'standard', 'star', 'start', 'state', 'statement', 'state’', 'station', 'statist', 'statu', 'stay', 'steal', 'steel', 'stein', 'stem', 'step', 'stephen', 'steve', 'steven', 'stick', 'still', 'stock', 'stolen', 'stone', 'stood', 'stop', 'store', 'stori', 'storm', 'straight', 'strain', 'strang', 'strateg', 'strategi', 'strategist', 'stream', 'street', 'strength', 'strengthen', 'stress', 'strike', 'string', 'strip', 'strong', 'stronger', 'strongli', 'struck', 'structur', 'struggl', 'student', 'studi', 'stuff', 'stun', 'stupid', 'style', 'su', 'subject', 'submit', 'subpoena', 'subscrib', 'subsequ', 'subsidi', 'substanti', 'succeed', 'success', 'successor', 'sudan', 'suddenli', 'sue', 'suffer', 'suffici', 'suggest', 'suicid', 'suit', 'summer', 'summit', 'sunday', 'sunni', 'super', 'suppli', 'support', 'suppos', 'supposedli', 'suprem', 'supremacist', 'sure', 'surfac', 'surg', 'surpris', 'surround', 'surveil', 'survey', 'surviv', 'susan', 'suspect', 'suspend', 'suspicion', 'sustain', 'suu', 'sweden', 'sweep', 'swing', 'switch', 'sworn', 'symbol', 'syria', 'syrian', 'system', 'tabl', 'tackl', 'tactic', 'taiwan', 'take', 'taken', 'taliban', 'talk', 'tank', 'tap', 'tape', 'target', 'task', 'tax', 'taxpay', 'tea', 'teach', 'teacher', 'team', 'tear', 'tech', 'technic', 'technolog', 'ted', 'teen', 'teenag', 'tehran', 'telephon', 'televis', 'tell', 'temporari', 'temporarili', 'ten', 'tend', 'tennesse', 'tension', 'tenur', 'term', 'termin', 'terribl', 'territori', 'terror', 'terrorist', 'test', 'testifi', 'testimoni', 'texa', 'text', 'thank', 'that’', 'theme', 'theori', 'therefor', 'theresa', 'thing', 'think', 'third', 'thoma', 'though', 'thought', 'thousand', 'threat', 'threaten', 'three', 'threw', 'throughout', 'throw', 'thrown', 'thu', 'thug', 'thursday', 'ticket', 'tie', 'tighten', 'tillerson', 'tim', 'time', 'tip', 'tire', 'titl', 'today', 'todd', 'togeth', 'tokyo', 'told', 'toler', 'tom', 'tone', 'tonight', 'took', 'tool', 'top', 'topic', 'tortur', 'total', 'touch', 'tough', 'tougher', 'tour', 'tourist', 'toward', 'tower', 'town', 'tpp', 'track', 'trade', 'tradit', 'traffic', 'traffick', 'tragedi', 'trail', 'train', 'transfer', 'transform', 'transgend', 'transit', 'transpar', 'transport', 'travel', 'treasuri', 'treat', 'treati', 'treatment', 'trend', 'tri', 'trial', 'tribun', 'trigger', 'trillion', 'trip', 'troop', 'troubl', 'truck', 'trudeau', 'true', 'truli', 'trump', 'trump’', 'trust', 'truth', 'tuesday', 'tune', 'turkey', 'turkish', 'turn', 'turnout', 'tweet', 'twice', 'twitter', 'two', 'type', 'typic', 'ukrain', 'ultim', 'unabl', 'uncertainti', 'unclear', 'unconstitut', 'undermin', 'understand', 'undocu', 'unemploy', 'unfair', 'unfortun', 'unilater', 'union', 'unit', 'uniti', 'univers', 'unless', 'unlik', 'unpreced', 'unusu', 'unveil', 'upcom', 'updat', 'upon', 'upset', 'uranium', 'urban', 'urg', 'us', 'usa', 'use', 'user', 'usl', 'usual', 'utah', 'util', 'vacat', 'valu', 'van', 'variou', 'vast', 'vega', 'vehicl', 'venezuela', 'verifi', 'vermont', 'version', 'vet', 'veteran', 'veto', 'via', 'vice', 'victim', 'victori', 'video', 'vietnam', 'view', 'viewer', 'villag', 'violat', 'violenc', 'violent', 'virginia', 'virtual', 'visa', 'vision', 'visit', 'vital', 'vladimir', 'voic', 'volunt', 'vote', 'voter', 'vow', 'vulner', 'wage', 'wait', 'wake', 'walk', 'wall', 'want', 'war', 'warm', 'warn', 'warrant', 'warren', 'washington', 'wast', 'watch', 'watchdog', 'water', 'wave', 'way', 'weak', 'weaken', 'wealth', 'wealthi', 'weapon', 'wear', 'websit', 'wednesday', 'week', 'weekend', 'weigh', 'weinstein', 'welcom', 'welfar', 'well', 'went', 'west', 'western', 'we’r', 'whatev', 'whether', 'whine', 'white', 'whole', 'whose', 'wide', 'widespread', 'wife', 'wikileak', 'will', 'william', 'wilson', 'win', 'wind', 'window', 'wing', 'winner', 'wire', 'wiretap', 'wisconsin', 'wish', 'wit', 'withdraw', 'within', 'without', 'woman', 'women', 'wonder', 'word', 'work', 'worker', 'world', 'worri', 'wors', 'worst', 'worth', 'would', 'wound', 'write', 'writer', 'written', 'wrong', 'wrongdo', 'wrote', 'ye', 'yeah', 'year', 'year’', 'yell', 'yemen', 'yesterday', 'yet', 'york', 'young', 'younger', 'youth', 'youtub', 'zealand', 'zero', 'zika', 'zimbabw', 'zone', 'zuma', '–', '“I', '“a', '“he', '“if', '“in', '“it', '“it’', '“i’m', '“the', '“there', '“thi', '“we', '“we’r']\n"
     ]
    }
   ],
   "source": [
    "print(vectorizer.get_feature_names())\n"
   ]
  },
  {
   "cell_type": "code",
   "execution_count": 39,
   "metadata": {},
   "outputs": [
    {
     "name": "stdout",
     "output_type": "stream",
     "text": [
      "[[0 0 0 ... 0 0 0]\n",
      " [0 0 0 ... 0 0 0]\n",
      " [0 0 0 ... 0 0 0]\n",
      " ...\n",
      " [0 0 0 ... 0 0 0]\n",
      " [0 0 0 ... 0 0 0]\n",
      " [0 0 0 ... 0 0 0]]\n"
     ]
    }
   ],
   "source": [
    "print(fake_countvectorizer.toarray())"
   ]
  },
  {
   "cell_type": "code",
   "execution_count": 40,
   "metadata": {},
   "outputs": [
    {
     "data": {
      "text/plain": [
       "(44867, 3000)"
      ]
     },
     "execution_count": 40,
     "metadata": {},
     "output_type": "execute_result"
    }
   ],
   "source": [
    "fake_countvectorizer.shape"
   ]
  },
  {
   "cell_type": "markdown",
   "metadata": {},
   "source": [
    "### Use the Naive baise classifier : train/test split and make the predictions"
   ]
  },
  {
   "cell_type": "code",
   "execution_count": 41,
   "metadata": {},
   "outputs": [],
   "source": [
    "from sklearn.naive_bayes import MultinomialNB\n",
    "\n",
    "NB_classifier = MultinomialNB()\n",
    "label = df['Fake'].values\n"
   ]
  },
  {
   "cell_type": "code",
   "execution_count": 42,
   "metadata": {},
   "outputs": [
    {
     "data": {
      "text/plain": [
       "array([1, 1, 1, ..., 0, 0, 0], dtype=int64)"
      ]
     },
     "execution_count": 42,
     "metadata": {},
     "output_type": "execute_result"
    }
   ],
   "source": [
    "label"
   ]
  },
  {
   "cell_type": "code",
   "execution_count": 43,
   "metadata": {},
   "outputs": [
    {
     "data": {
      "text/plain": [
       "MultinomialNB()"
      ]
     },
     "execution_count": 43,
     "metadata": {},
     "output_type": "execute_result"
    }
   ],
   "source": [
    "NB_classifier.fit(fake_countvectorizer, label)"
   ]
  },
  {
   "cell_type": "code",
   "execution_count": 44,
   "metadata": {},
   "outputs": [
    {
     "data": {
      "text/plain": [
       "array([1], dtype=int64)"
      ]
     },
     "execution_count": 44,
     "metadata": {},
     "output_type": "execute_result"
    }
   ],
   "source": [
    "testing_sample = ['Trump is God']\n",
    "testing_sample_countvectorizer = vectorizer.transform(testing_sample)\n",
    "test_predict = NB_classifier.predict(testing_sample_countvectorizer)\n",
    "test_predict"
   ]
  },
  {
   "cell_type": "code",
   "execution_count": 45,
   "metadata": {},
   "outputs": [
    {
     "data": {
      "text/plain": [
       "array([0], dtype=int64)"
      ]
     },
     "execution_count": 45,
     "metadata": {},
     "output_type": "execute_result"
    }
   ],
   "source": [
    "testing_sample = ['Trump is the united states president']\n",
    "testing_sample_countvectorizer = vectorizer.transform(testing_sample)\n",
    "test_predict = NB_classifier.predict(testing_sample_countvectorizer)\n",
    "test_predict"
   ]
  },
  {
   "cell_type": "code",
   "execution_count": 53,
   "metadata": {},
   "outputs": [],
   "source": [
    "X = fake_countvectorizer\n",
    "y = label"
   ]
  },
  {
   "cell_type": "code",
   "execution_count": 54,
   "metadata": {},
   "outputs": [],
   "source": [
    "from sklearn.model_selection import train_test_split\n",
    "X_train, X_test, y_train, y_test = train_test_split(X, y, test_size=0.2)"
   ]
  },
  {
   "cell_type": "code",
   "execution_count": 55,
   "metadata": {},
   "outputs": [
    {
     "data": {
      "text/plain": [
       "MultinomialNB()"
      ]
     },
     "execution_count": 55,
     "metadata": {},
     "output_type": "execute_result"
    }
   ],
   "source": [
    "from sklearn.naive_bayes import MultinomialNB\n",
    "\n",
    "NB_classifier = MultinomialNB()\n",
    "NB_classifier.fit(X_train, y_train)"
   ]
  },
  {
   "cell_type": "code",
   "execution_count": 56,
   "metadata": {},
   "outputs": [],
   "source": [
    "from sklearn.metrics import classification_report, confusion_matrix\n"
   ]
  },
  {
   "cell_type": "markdown",
   "metadata": {},
   "source": [
    "### Confusion matrix and model results"
   ]
  },
  {
   "cell_type": "code",
   "execution_count": 58,
   "metadata": {},
   "outputs": [
    {
     "data": {
      "text/plain": [
       "<matplotlib.axes._subplots.AxesSubplot at 0x1d8a536a898>"
      ]
     },
     "execution_count": 58,
     "metadata": {},
     "output_type": "execute_result"
    },
    {
     "data": {
      "image/png": "[encoded data removed]",
      "text/plain": [
       "<Figure size 432x288 with 2 Axes>"
      ]
     },
     "metadata": {
      "needs_background": "light"
     },
     "output_type": "display_data"
    }
   ],
   "source": [
    "# Predicting the Test set results\n",
    "y_predict_test = NB_classifier.predict(X_test)\n",
    "cm = confusion_matrix(y_test, y_predict_test)\n",
    "sns.heatmap(cm, annot=True)"
   ]
  },
  {
   "cell_type": "code",
   "execution_count": 59,
   "metadata": {},
   "outputs": [
    {
     "name": "stdout",
     "output_type": "stream",
     "text": [
      "              precision    recall  f1-score   support\n",
      "\n",
      "           0       0.95      0.99      0.97      4283\n",
      "           1       0.99      0.95      0.97      4691\n",
      "\n",
      "    accuracy                           0.97      8974\n",
      "   macro avg       0.97      0.97      0.97      8974\n",
      "weighted avg       0.97      0.97      0.97      8974\n",
      "\n"
     ]
    }
   ],
   "source": [
    "print(classification_report(y_test, y_predict_test))"
   ]
  },
  {
   "cell_type": "code",
   "execution_count": null,
   "metadata": {},
   "outputs": [],
   "source": []
  }
 ],
 "metadata": {
  "kernelspec": {
   "display_name": "Python 3",
   "language": "python",
   "name": "python3"
  },
  "language_info": {
   "codemirror_mode": {
    "name": "ipython",
    "version": 3
   },
   "file_extension": ".py",
   "mimetype": "text/x-python",
   "name": "python",
   "nbconvert_exporter": "python",
   "pygments_lexer": "ipython3",
   "version": "3.7.3"
  }
 },
 "nbformat": 4,
 "nbformat_minor": 2
}
